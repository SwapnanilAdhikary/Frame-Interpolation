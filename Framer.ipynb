{
 "cells": [
  {
   "cell_type": "code",
   "execution_count": 1,
   "id": "aa3baaef-19c9-4de9-b3b2-01427ee8d619",
   "metadata": {},
   "outputs": [
    {
     "name": "stdout",
     "output_type": "stream",
     "text": [
      "Loading dataset...\n",
      "Dataset loaded.\n",
      "Training model...\n",
      "\n",
      "Epoch 1/3\n"
     ]
    },
    {
     "name": "stderr",
     "output_type": "stream",
     "text": [
      "Epoch 1:   0%|▏                                                                      | 1/297 [00:54<4:28:21, 54.40s/it]"
     ]
    },
    {
     "name": "stdout",
     "output_type": "stream",
     "text": [
      "Batch 0/297, Loss: 0.05597037822008133\n"
     ]
    },
    {
     "name": "stderr",
     "output_type": "stream",
     "text": [
      "Epoch 1:   4%|██▌                                                                   | 11/297 [08:01<3:09:52, 39.83s/it]"
     ]
    },
    {
     "name": "stdout",
     "output_type": "stream",
     "text": [
      "Batch 10/297, Loss: 0.019104108214378357\n"
     ]
    },
    {
     "name": "stderr",
     "output_type": "stream",
     "text": [
      "Epoch 1:   7%|████▉                                                                 | 21/297 [14:55<3:07:02, 40.66s/it]"
     ]
    },
    {
     "name": "stdout",
     "output_type": "stream",
     "text": [
      "Batch 20/297, Loss: 0.011420982889831066\n"
     ]
    },
    {
     "name": "stderr",
     "output_type": "stream",
     "text": [
      "Epoch 1:  10%|███████▎                                                              | 31/297 [21:35<2:55:34, 39.60s/it]"
     ]
    },
    {
     "name": "stdout",
     "output_type": "stream",
     "text": [
      "Batch 30/297, Loss: 0.010270990431308746\n"
     ]
    },
    {
     "name": "stderr",
     "output_type": "stream",
     "text": [
      "Epoch 1:  14%|█████████▋                                                            | 41/297 [28:31<3:06:49, 43.79s/it]"
     ]
    },
    {
     "name": "stdout",
     "output_type": "stream",
     "text": [
      "Batch 40/297, Loss: 0.005316745489835739\n"
     ]
    },
    {
     "name": "stderr",
     "output_type": "stream",
     "text": [
      "Epoch 1:  17%|████████████                                                          | 51/297 [35:05<2:38:00, 38.54s/it]"
     ]
    },
    {
     "name": "stdout",
     "output_type": "stream",
     "text": [
      "Batch 50/297, Loss: 0.005079200491309166\n"
     ]
    },
    {
     "name": "stderr",
     "output_type": "stream",
     "text": [
      "Epoch 1:  21%|██████████████▍                                                       | 61/297 [41:43<2:38:30, 40.30s/it]"
     ]
    },
    {
     "name": "stdout",
     "output_type": "stream",
     "text": [
      "Batch 60/297, Loss: 0.002358189783990383\n"
     ]
    },
    {
     "name": "stderr",
     "output_type": "stream",
     "text": [
      "Epoch 1:  24%|████████████████▋                                                     | 71/297 [48:22<2:29:23, 39.66s/it]"
     ]
    },
    {
     "name": "stdout",
     "output_type": "stream",
     "text": [
      "Batch 70/297, Loss: 0.003335844026878476\n"
     ]
    },
    {
     "name": "stderr",
     "output_type": "stream",
     "text": [
      "Epoch 1:  27%|███████████████████                                                   | 81/297 [55:25<2:26:58, 40.83s/it]"
     ]
    },
    {
     "name": "stdout",
     "output_type": "stream",
     "text": [
      "Batch 80/297, Loss: 0.0014602986630052328\n"
     ]
    },
    {
     "name": "stderr",
     "output_type": "stream",
     "text": [
      "Epoch 1:  31%|████████████████████▊                                               | 91/297 [1:01:51<2:14:03, 39.05s/it]"
     ]
    },
    {
     "name": "stdout",
     "output_type": "stream",
     "text": [
      "Batch 90/297, Loss: 0.0011957783717662096\n"
     ]
    },
    {
     "name": "stderr",
     "output_type": "stream",
     "text": [
      "Epoch 1:  34%|██████████████████████▊                                            | 101/297 [1:08:51<2:17:34, 42.11s/it]"
     ]
    },
    {
     "name": "stdout",
     "output_type": "stream",
     "text": [
      "Batch 100/297, Loss: 0.0009805896552279592\n"
     ]
    },
    {
     "name": "stderr",
     "output_type": "stream",
     "text": [
      "Epoch 1:  37%|█████████████████████████                                          | 111/297 [1:15:23<2:01:25, 39.17s/it]"
     ]
    },
    {
     "name": "stdout",
     "output_type": "stream",
     "text": [
      "Batch 110/297, Loss: 0.0034368045162409544\n"
     ]
    },
    {
     "name": "stderr",
     "output_type": "stream",
     "text": [
      "Epoch 1:  41%|███████████████████████████▎                                       | 121/297 [1:22:05<1:58:29, 40.39s/it]"
     ]
    },
    {
     "name": "stdout",
     "output_type": "stream",
     "text": [
      "Batch 120/297, Loss: 0.0007737647974863648\n"
     ]
    },
    {
     "name": "stderr",
     "output_type": "stream",
     "text": [
      "Epoch 1:  44%|█████████████████████████████▌                                     | 131/297 [1:28:37<1:49:11, 39.47s/it]"
     ]
    },
    {
     "name": "stdout",
     "output_type": "stream",
     "text": [
      "Batch 130/297, Loss: 0.0008265309152193367\n"
     ]
    },
    {
     "name": "stderr",
     "output_type": "stream",
     "text": [
      "Epoch 1:  47%|███████████████████████████████▊                                   | 141/297 [1:35:15<1:40:42, 38.73s/it]"
     ]
    },
    {
     "name": "stdout",
     "output_type": "stream",
     "text": [
      "Batch 140/297, Loss: 0.0005916302907280624\n"
     ]
    },
    {
     "name": "stderr",
     "output_type": "stream",
     "text": [
      "Epoch 1:  51%|██████████████████████████████████                                 | 151/297 [1:41:52<1:37:04, 39.89s/it]"
     ]
    },
    {
     "name": "stdout",
     "output_type": "stream",
     "text": [
      "Batch 150/297, Loss: 0.00062853645067662\n"
     ]
    },
    {
     "name": "stderr",
     "output_type": "stream",
     "text": [
      "Epoch 1:  54%|████████████████████████████████████▎                              | 161/297 [1:48:42<1:33:00, 41.03s/it]"
     ]
    },
    {
     "name": "stdout",
     "output_type": "stream",
     "text": [
      "Batch 160/297, Loss: 0.0004976172931492329\n"
     ]
    },
    {
     "name": "stderr",
     "output_type": "stream",
     "text": [
      "Epoch 1:  58%|██████████████████████████████████████▌                            | 171/297 [1:55:18<1:22:52, 39.46s/it]"
     ]
    },
    {
     "name": "stdout",
     "output_type": "stream",
     "text": [
      "Batch 170/297, Loss: 0.0005537050310522318\n"
     ]
    },
    {
     "name": "stderr",
     "output_type": "stream",
     "text": [
      "Epoch 1:  61%|████████████████████████████████████████▊                          | 181/297 [2:02:03<1:17:53, 40.28s/it]"
     ]
    },
    {
     "name": "stdout",
     "output_type": "stream",
     "text": [
      "Batch 180/297, Loss: 0.002885005436837673\n"
     ]
    },
    {
     "name": "stderr",
     "output_type": "stream",
     "text": [
      "Epoch 1:  64%|███████████████████████████████████████████                        | 191/297 [2:08:42<1:08:41, 38.88s/it]"
     ]
    },
    {
     "name": "stdout",
     "output_type": "stream",
     "text": [
      "Batch 190/297, Loss: 0.003264723112806678\n"
     ]
    },
    {
     "name": "stderr",
     "output_type": "stream",
     "text": [
      "Epoch 1:  68%|█████████████████████████████████████████████▎                     | 201/297 [2:15:28<1:04:45, 40.48s/it]"
     ]
    },
    {
     "name": "stdout",
     "output_type": "stream",
     "text": [
      "Batch 200/297, Loss: 0.0005618158029392362\n"
     ]
    },
    {
     "name": "stderr",
     "output_type": "stream",
     "text": [
      "Epoch 1:  71%|█████████████████████████████████████████████████                    | 211/297 [2:22:29<58:51, 41.06s/it]"
     ]
    },
    {
     "name": "stdout",
     "output_type": "stream",
     "text": [
      "Batch 210/297, Loss: 0.002479440299794078\n"
     ]
    },
    {
     "name": "stderr",
     "output_type": "stream",
     "text": [
      "Epoch 1:  74%|███████████████████████████████████████████████████▎                 | 221/297 [2:29:24<51:48, 40.90s/it]"
     ]
    },
    {
     "name": "stdout",
     "output_type": "stream",
     "text": [
      "Batch 220/297, Loss: 0.0004948595305904746\n"
     ]
    },
    {
     "name": "stderr",
     "output_type": "stream",
     "text": [
      "Epoch 1:  78%|█████████████████████████████████████████████████████▋               | 231/297 [2:36:04<43:43, 39.75s/it]"
     ]
    },
    {
     "name": "stdout",
     "output_type": "stream",
     "text": [
      "Batch 230/297, Loss: 0.0004925656248815358\n"
     ]
    },
    {
     "name": "stderr",
     "output_type": "stream",
     "text": [
      "Epoch 1:  81%|███████████████████████████████████████████████████████▉             | 241/297 [2:42:55<37:54, 40.61s/it]"
     ]
    },
    {
     "name": "stdout",
     "output_type": "stream",
     "text": [
      "Batch 240/297, Loss: 0.002659662626683712\n"
     ]
    },
    {
     "name": "stderr",
     "output_type": "stream",
     "text": [
      "Epoch 1:  85%|██████████████████████████████████████████████████████████▎          | 251/297 [2:49:29<30:32, 39.85s/it]"
     ]
    },
    {
     "name": "stdout",
     "output_type": "stream",
     "text": [
      "Batch 250/297, Loss: 0.0008040281827561557\n"
     ]
    },
    {
     "name": "stderr",
     "output_type": "stream",
     "text": [
      "Epoch 1:  88%|████████████████████████████████████████████████████████████▋        | 261/297 [2:56:08<23:24, 39.02s/it]"
     ]
    },
    {
     "name": "stdout",
     "output_type": "stream",
     "text": [
      "Batch 260/297, Loss: 0.002536170184612274\n"
     ]
    },
    {
     "name": "stderr",
     "output_type": "stream",
     "text": [
      "Epoch 1:  91%|██████████████████████████████████████████████████████████████▉      | 271/297 [3:02:53<17:07, 39.53s/it]"
     ]
    },
    {
     "name": "stdout",
     "output_type": "stream",
     "text": [
      "Batch 270/297, Loss: 0.0006489809020422399\n"
     ]
    },
    {
     "name": "stderr",
     "output_type": "stream",
     "text": [
      "Epoch 1:  95%|█████████████████████████████████████████████████████████████████▎   | 281/297 [3:09:40<10:55, 40.97s/it]"
     ]
    },
    {
     "name": "stdout",
     "output_type": "stream",
     "text": [
      "Batch 280/297, Loss: 0.0004965867847204208\n"
     ]
    },
    {
     "name": "stderr",
     "output_type": "stream",
     "text": [
      "Epoch 1:  98%|███████████████████████████████████████████████████████████████████▌ | 291/297 [3:16:31<04:06, 41.02s/it]"
     ]
    },
    {
     "name": "stdout",
     "output_type": "stream",
     "text": [
      "Batch 290/297, Loss: 0.00033410885953344405\n"
     ]
    },
    {
     "name": "stderr",
     "output_type": "stream",
     "text": [
      "Epoch 1: 100%|█████████████████████████████████████████████████████████████████████| 297/297 [3:20:27<00:00, 40.50s/it]"
     ]
    },
    {
     "name": "stdout",
     "output_type": "stream",
     "text": [
      "\n",
      "Epoch 1/3, Average Loss: 0.0037935528434226633\n"
     ]
    },
    {
     "name": "stderr",
     "output_type": "stream",
     "text": [
      "\n"
     ]
    },
    {
     "name": "stdout",
     "output_type": "stream",
     "text": [
      "\n",
      "Epoch 2/3\n"
     ]
    },
    {
     "name": "stderr",
     "output_type": "stream",
     "text": [
      "Epoch 2:   0%|▏                                                                      | 1/297 [00:38<3:10:07, 38.54s/it]"
     ]
    },
    {
     "name": "stdout",
     "output_type": "stream",
     "text": [
      "Batch 0/297, Loss: 0.0005836006603203714\n"
     ]
    },
    {
     "name": "stderr",
     "output_type": "stream",
     "text": [
      "Epoch 2:   4%|██▌                                                                   | 11/297 [07:37<3:28:50, 43.81s/it]"
     ]
    },
    {
     "name": "stdout",
     "output_type": "stream",
     "text": [
      "Batch 10/297, Loss: 0.0005069540929980576\n"
     ]
    },
    {
     "name": "stderr",
     "output_type": "stream",
     "text": [
      "Epoch 2:   7%|████▉                                                                 | 21/297 [14:17<3:03:15, 39.84s/it]"
     ]
    },
    {
     "name": "stdout",
     "output_type": "stream",
     "text": [
      "Batch 20/297, Loss: 0.0002943464496638626\n"
     ]
    },
    {
     "name": "stderr",
     "output_type": "stream",
     "text": [
      "Epoch 2:  10%|███████▎                                                              | 31/297 [21:12<3:04:19, 41.58s/it]"
     ]
    },
    {
     "name": "stdout",
     "output_type": "stream",
     "text": [
      "Batch 30/297, Loss: 0.0027344634290784597\n"
     ]
    },
    {
     "name": "stderr",
     "output_type": "stream",
     "text": [
      "Epoch 2:  14%|█████████▋                                                            | 41/297 [28:11<2:57:11, 41.53s/it]"
     ]
    },
    {
     "name": "stdout",
     "output_type": "stream",
     "text": [
      "Batch 40/297, Loss: 0.002996724331751466\n"
     ]
    },
    {
     "name": "stderr",
     "output_type": "stream",
     "text": [
      "Epoch 2:  17%|████████████                                                          | 51/297 [34:47<2:40:51, 39.23s/it]"
     ]
    },
    {
     "name": "stdout",
     "output_type": "stream",
     "text": [
      "Batch 50/297, Loss: 0.0027589306700974703\n"
     ]
    },
    {
     "name": "stderr",
     "output_type": "stream",
     "text": [
      "Epoch 2:  21%|██████████████▍                                                       | 61/297 [41:38<2:41:29, 41.06s/it]"
     ]
    },
    {
     "name": "stdout",
     "output_type": "stream",
     "text": [
      "Batch 60/297, Loss: 0.0031166740227490664\n"
     ]
    },
    {
     "name": "stderr",
     "output_type": "stream",
     "text": [
      "Epoch 2:  24%|████████████████▋                                                     | 71/297 [48:41<2:39:40, 42.39s/it]"
     ]
    },
    {
     "name": "stdout",
     "output_type": "stream",
     "text": [
      "Batch 70/297, Loss: 0.0005277926684357226\n"
     ]
    },
    {
     "name": "stderr",
     "output_type": "stream",
     "text": [
      "Epoch 2:  27%|███████████████████                                                   | 81/297 [55:21<2:25:19, 40.37s/it]"
     ]
    },
    {
     "name": "stdout",
     "output_type": "stream",
     "text": [
      "Batch 80/297, Loss: 0.0004447047831490636\n"
     ]
    },
    {
     "name": "stderr",
     "output_type": "stream",
     "text": [
      "Epoch 2:  31%|████████████████████▊                                               | 91/297 [1:02:17<2:21:09, 41.11s/it]"
     ]
    },
    {
     "name": "stdout",
     "output_type": "stream",
     "text": [
      "Batch 90/297, Loss: 0.0003994144208263606\n"
     ]
    },
    {
     "name": "stderr",
     "output_type": "stream",
     "text": [
      "Epoch 2:  34%|██████████████████████▊                                            | 101/297 [1:09:08<2:10:17, 39.88s/it]"
     ]
    },
    {
     "name": "stdout",
     "output_type": "stream",
     "text": [
      "Batch 100/297, Loss: 0.0031904266215860844\n"
     ]
    },
    {
     "name": "stderr",
     "output_type": "stream",
     "text": [
      "Epoch 2:  37%|█████████████████████████                                          | 111/297 [1:15:43<2:02:12, 39.42s/it]"
     ]
    },
    {
     "name": "stdout",
     "output_type": "stream",
     "text": [
      "Batch 110/297, Loss: 0.0003530934627633542\n"
     ]
    },
    {
     "name": "stderr",
     "output_type": "stream",
     "text": [
      "Epoch 2:  41%|███████████████████████████▎                                       | 121/297 [1:22:27<1:58:43, 40.48s/it]"
     ]
    },
    {
     "name": "stdout",
     "output_type": "stream",
     "text": [
      "Batch 120/297, Loss: 0.0003992332494817674\n"
     ]
    },
    {
     "name": "stderr",
     "output_type": "stream",
     "text": [
      "Epoch 2:  44%|█████████████████████████████▌                                     | 131/297 [1:29:08<1:51:16, 40.22s/it]"
     ]
    },
    {
     "name": "stdout",
     "output_type": "stream",
     "text": [
      "Batch 130/297, Loss: 0.00021333835320547223\n"
     ]
    },
    {
     "name": "stderr",
     "output_type": "stream",
     "text": [
      "Epoch 2:  47%|███████████████████████████████▊                                   | 141/297 [1:35:54<1:46:15, 40.87s/it]"
     ]
    },
    {
     "name": "stdout",
     "output_type": "stream",
     "text": [
      "Batch 140/297, Loss: 0.00021767086582258344\n"
     ]
    },
    {
     "name": "stderr",
     "output_type": "stream",
     "text": [
      "Epoch 2:  51%|██████████████████████████████████                                 | 151/297 [1:42:39<1:38:09, 40.34s/it]"
     ]
    },
    {
     "name": "stdout",
     "output_type": "stream",
     "text": [
      "Batch 150/297, Loss: 0.0004187116282992065\n"
     ]
    },
    {
     "name": "stderr",
     "output_type": "stream",
     "text": [
      "Epoch 2:  54%|████████████████████████████████████▎                              | 161/297 [1:49:23<1:32:19, 40.73s/it]"
     ]
    },
    {
     "name": "stdout",
     "output_type": "stream",
     "text": [
      "Batch 160/297, Loss: 0.0002800107467919588\n"
     ]
    },
    {
     "name": "stderr",
     "output_type": "stream",
     "text": [
      "Epoch 2:  58%|██████████████████████████████████████▌                            | 171/297 [1:55:57<1:21:47, 38.95s/it]"
     ]
    },
    {
     "name": "stdout",
     "output_type": "stream",
     "text": [
      "Batch 170/297, Loss: 0.000746704638004303\n"
     ]
    },
    {
     "name": "stderr",
     "output_type": "stream",
     "text": [
      "Epoch 2:  61%|████████████████████████████████████████▊                          | 181/297 [2:02:51<1:20:02, 41.40s/it]"
     ]
    },
    {
     "name": "stdout",
     "output_type": "stream",
     "text": [
      "Batch 180/297, Loss: 0.00023243641771841794\n"
     ]
    },
    {
     "name": "stderr",
     "output_type": "stream",
     "text": [
      "Epoch 2:  64%|███████████████████████████████████████████                        | 191/297 [2:09:31<1:10:57, 40.17s/it]"
     ]
    },
    {
     "name": "stdout",
     "output_type": "stream",
     "text": [
      "Batch 190/297, Loss: 0.0029168338514864445\n"
     ]
    },
    {
     "name": "stderr",
     "output_type": "stream",
     "text": [
      "Epoch 2:  68%|█████████████████████████████████████████████▎                     | 201/297 [2:16:24<1:06:03, 41.29s/it]"
     ]
    },
    {
     "name": "stdout",
     "output_type": "stream",
     "text": [
      "Batch 200/297, Loss: 0.0004443091747816652\n"
     ]
    },
    {
     "name": "stderr",
     "output_type": "stream",
     "text": [
      "Epoch 2:  71%|███████████████████████████████████████████████▌                   | 211/297 [2:29:29<1:51:37, 77.88s/it]"
     ]
    },
    {
     "name": "stdout",
     "output_type": "stream",
     "text": [
      "Batch 210/297, Loss: 0.0003119341563433409\n"
     ]
    },
    {
     "name": "stderr",
     "output_type": "stream",
     "text": [
      "Epoch 2:  74%|█████████████████████████████████████████████████▊                 | 221/297 [2:42:52<1:42:09, 80.65s/it]"
     ]
    },
    {
     "name": "stdout",
     "output_type": "stream",
     "text": [
      "Batch 220/297, Loss: 0.00023265938216354698\n"
     ]
    },
    {
     "name": "stderr",
     "output_type": "stream",
     "text": [
      "Epoch 2:  78%|████████████████████████████████████████████████████               | 231/297 [2:56:03<1:27:01, 79.11s/it]"
     ]
    },
    {
     "name": "stdout",
     "output_type": "stream",
     "text": [
      "Batch 230/297, Loss: 0.0024704034440219402\n"
     ]
    },
    {
     "name": "stderr",
     "output_type": "stream",
     "text": [
      "Epoch 2:  81%|██████████████████████████████████████████████████████▎            | 241/297 [3:08:21<1:08:19, 73.20s/it]"
     ]
    },
    {
     "name": "stdout",
     "output_type": "stream",
     "text": [
      "Batch 240/297, Loss: 0.0006751556065864861\n"
     ]
    },
    {
     "name": "stderr",
     "output_type": "stream",
     "text": [
      "Epoch 2:  85%|████████████████████████████████████████████████████████▌          | 251/297 [3:20:42<1:00:39, 79.12s/it]"
     ]
    },
    {
     "name": "stdout",
     "output_type": "stream",
     "text": [
      "Batch 250/297, Loss: 0.0006228790734894574\n"
     ]
    },
    {
     "name": "stderr",
     "output_type": "stream",
     "text": [
      "Epoch 2:  88%|████████████████████████████████████████████████████████████▋        | 261/297 [3:34:02<48:02, 80.06s/it]"
     ]
    },
    {
     "name": "stdout",
     "output_type": "stream",
     "text": [
      "Batch 260/297, Loss: 0.0005002786056138575\n"
     ]
    },
    {
     "name": "stderr",
     "output_type": "stream",
     "text": [
      "Epoch 2:  91%|██████████████████████████████████████████████████████████████▉      | 271/297 [3:47:29<35:54, 82.87s/it]"
     ]
    },
    {
     "name": "stdout",
     "output_type": "stream",
     "text": [
      "Batch 270/297, Loss: 0.00032544578425586224\n"
     ]
    },
    {
     "name": "stderr",
     "output_type": "stream",
     "text": [
      "Epoch 2:  95%|█████████████████████████████████████████████████████████████████▎   | 281/297 [4:00:41<21:10, 79.40s/it]"
     ]
    },
    {
     "name": "stdout",
     "output_type": "stream",
     "text": [
      "Batch 280/297, Loss: 0.00020215458062011749\n"
     ]
    },
    {
     "name": "stderr",
     "output_type": "stream",
     "text": [
      "Epoch 2:  98%|███████████████████████████████████████████████████████████████████▌ | 291/297 [4:14:22<08:21, 83.57s/it]"
     ]
    },
    {
     "name": "stdout",
     "output_type": "stream",
     "text": [
      "Batch 290/297, Loss: 0.00038752780528739095\n"
     ]
    },
    {
     "name": "stderr",
     "output_type": "stream",
     "text": [
      "Epoch 2: 100%|█████████████████████████████████████████████████████████████████████| 297/297 [4:22:33<00:00, 53.04s/it]"
     ]
    },
    {
     "name": "stdout",
     "output_type": "stream",
     "text": [
      "\n",
      "Epoch 2/3, Average Loss: 0.0008106839113342748\n"
     ]
    },
    {
     "name": "stderr",
     "output_type": "stream",
     "text": [
      "\n"
     ]
    },
    {
     "name": "stdout",
     "output_type": "stream",
     "text": [
      "\n",
      "Epoch 3/3\n"
     ]
    },
    {
     "name": "stderr",
     "output_type": "stream",
     "text": [
      "Epoch 3:   0%|▏                                                                      | 1/297 [01:23<6:49:31, 83.01s/it]"
     ]
    },
    {
     "name": "stdout",
     "output_type": "stream",
     "text": [
      "Batch 0/297, Loss: 0.00046777829993516207\n"
     ]
    },
    {
     "name": "stderr",
     "output_type": "stream",
     "text": [
      "Epoch 3:   4%|██▌                                                                   | 11/297 [14:55<6:32:22, 82.32s/it]"
     ]
    },
    {
     "name": "stdout",
     "output_type": "stream",
     "text": [
      "Batch 10/297, Loss: 0.0024459182750433683\n"
     ]
    },
    {
     "name": "stderr",
     "output_type": "stream",
     "text": [
      "Epoch 3:   7%|████▉                                                                 | 21/297 [28:06<6:01:58, 78.69s/it]"
     ]
    },
    {
     "name": "stdout",
     "output_type": "stream",
     "text": [
      "Batch 20/297, Loss: 0.0003301729739177972\n"
     ]
    },
    {
     "name": "stderr",
     "output_type": "stream",
     "text": [
      "Epoch 3:  10%|███████▎                                                              | 31/297 [41:37<6:02:06, 81.68s/it]"
     ]
    },
    {
     "name": "stdout",
     "output_type": "stream",
     "text": [
      "Batch 30/297, Loss: 0.0003683337999973446\n"
     ]
    },
    {
     "name": "stderr",
     "output_type": "stream",
     "text": [
      "Epoch 3:  14%|█████████▋                                                            | 41/297 [54:57<5:42:48, 80.34s/it]"
     ]
    },
    {
     "name": "stdout",
     "output_type": "stream",
     "text": [
      "Batch 40/297, Loss: 0.0026570146437734365\n"
     ]
    },
    {
     "name": "stderr",
     "output_type": "stream",
     "text": [
      "Epoch 3:  17%|███████████▋                                                        | 51/297 [1:08:13<5:27:03, 79.77s/it]"
     ]
    },
    {
     "name": "stdout",
     "output_type": "stream",
     "text": [
      "Batch 50/297, Loss: 0.0002371439477428794\n"
     ]
    },
    {
     "name": "stderr",
     "output_type": "stream",
     "text": [
      "Epoch 3:  21%|█████████████▉                                                      | 61/297 [1:21:50<5:19:47, 81.30s/it]"
     ]
    },
    {
     "name": "stdout",
     "output_type": "stream",
     "text": [
      "Batch 60/297, Loss: 0.00018100914894603193\n"
     ]
    },
    {
     "name": "stderr",
     "output_type": "stream",
     "text": [
      "Epoch 3:  24%|████████████████▎                                                   | 71/297 [1:35:28<5:16:49, 84.11s/it]"
     ]
    },
    {
     "name": "stdout",
     "output_type": "stream",
     "text": [
      "Batch 70/297, Loss: 0.00029039938817732036\n"
     ]
    },
    {
     "name": "stderr",
     "output_type": "stream",
     "text": [
      "Epoch 3:  27%|██████████████████▌                                                 | 81/297 [1:48:52<4:48:54, 80.25s/it]"
     ]
    },
    {
     "name": "stdout",
     "output_type": "stream",
     "text": [
      "Batch 80/297, Loss: 0.001041754032485187\n"
     ]
    },
    {
     "name": "stderr",
     "output_type": "stream",
     "text": [
      "Epoch 3:  31%|████████████████████▊                                               | 91/297 [2:02:39<4:42:37, 82.32s/it]"
     ]
    },
    {
     "name": "stdout",
     "output_type": "stream",
     "text": [
      "Batch 90/297, Loss: 0.0004782469186466187\n"
     ]
    },
    {
     "name": "stderr",
     "output_type": "stream",
     "text": [
      "Epoch 3:  34%|██████████████████████▊                                            | 101/297 [2:16:20<4:32:48, 83.51s/it]"
     ]
    },
    {
     "name": "stdout",
     "output_type": "stream",
     "text": [
      "Batch 100/297, Loss: 0.0002089520130539313\n"
     ]
    },
    {
     "name": "stderr",
     "output_type": "stream",
     "text": [
      "Epoch 3:  37%|█████████████████████████                                          | 111/297 [2:29:41<4:06:34, 79.54s/it]"
     ]
    },
    {
     "name": "stdout",
     "output_type": "stream",
     "text": [
      "Batch 110/297, Loss: 0.000377621065126732\n"
     ]
    },
    {
     "name": "stderr",
     "output_type": "stream",
     "text": [
      "Epoch 3:  41%|███████████████████████████▎                                       | 121/297 [2:42:58<3:54:04, 79.80s/it]"
     ]
    },
    {
     "name": "stdout",
     "output_type": "stream",
     "text": [
      "Batch 120/297, Loss: 0.00305032916367054\n"
     ]
    },
    {
     "name": "stderr",
     "output_type": "stream",
     "text": [
      "Epoch 3:  44%|█████████████████████████████▌                                     | 131/297 [2:56:09<3:40:07, 79.56s/it]"
     ]
    },
    {
     "name": "stdout",
     "output_type": "stream",
     "text": [
      "Batch 130/297, Loss: 0.000261667970335111\n"
     ]
    },
    {
     "name": "stderr",
     "output_type": "stream",
     "text": [
      "Epoch 3:  47%|███████████████████████████████▊                                   | 141/297 [3:09:34<3:30:29, 80.96s/it]"
     ]
    },
    {
     "name": "stdout",
     "output_type": "stream",
     "text": [
      "Batch 140/297, Loss: 0.00023524924472440034\n"
     ]
    },
    {
     "name": "stderr",
     "output_type": "stream",
     "text": [
      "Epoch 3:  51%|██████████████████████████████████                                 | 151/297 [3:23:09<3:18:46, 81.69s/it]"
     ]
    },
    {
     "name": "stdout",
     "output_type": "stream",
     "text": [
      "Batch 150/297, Loss: 0.00024693598970770836\n"
     ]
    },
    {
     "name": "stderr",
     "output_type": "stream",
     "text": [
      "Epoch 3:  54%|████████████████████████████████████▎                              | 161/297 [3:36:59<3:07:23, 82.67s/it]"
     ]
    },
    {
     "name": "stdout",
     "output_type": "stream",
     "text": [
      "Batch 160/297, Loss: 0.0037172941956669092\n"
     ]
    },
    {
     "name": "stderr",
     "output_type": "stream",
     "text": [
      "Epoch 3:  58%|██████████████████████████████████████▌                            | 171/297 [3:50:42<2:55:54, 83.76s/it]"
     ]
    },
    {
     "name": "stdout",
     "output_type": "stream",
     "text": [
      "Batch 170/297, Loss: 0.00037996715400367975\n"
     ]
    },
    {
     "name": "stderr",
     "output_type": "stream",
     "text": [
      "Epoch 3:  61%|████████████████████████████████████████▊                          | 181/297 [4:04:13<2:38:32, 82.00s/it]"
     ]
    },
    {
     "name": "stdout",
     "output_type": "stream",
     "text": [
      "Batch 180/297, Loss: 0.0002975332026835531\n"
     ]
    },
    {
     "name": "stderr",
     "output_type": "stream",
     "text": [
      "Epoch 3:  64%|███████████████████████████████████████████                        | 191/297 [4:17:52<2:24:02, 81.54s/it]"
     ]
    },
    {
     "name": "stdout",
     "output_type": "stream",
     "text": [
      "Batch 190/297, Loss: 0.0003374731168150902\n"
     ]
    },
    {
     "name": "stderr",
     "output_type": "stream",
     "text": [
      "Epoch 3:  68%|█████████████████████████████████████████████▎                     | 201/297 [4:31:29<2:09:12, 80.76s/it]"
     ]
    },
    {
     "name": "stdout",
     "output_type": "stream",
     "text": [
      "Batch 200/297, Loss: 0.0002727663377299905\n"
     ]
    },
    {
     "name": "stderr",
     "output_type": "stream",
     "text": [
      "Epoch 3:  71%|███████████████████████████████████████████████▌                   | 211/297 [4:44:57<1:57:08, 81.73s/it]"
     ]
    },
    {
     "name": "stdout",
     "output_type": "stream",
     "text": [
      "Batch 210/297, Loss: 0.0003583687939681113\n"
     ]
    },
    {
     "name": "stderr",
     "output_type": "stream",
     "text": [
      "Epoch 3:  74%|█████████████████████████████████████████████████▊                 | 221/297 [4:58:10<1:40:57, 79.70s/it]"
     ]
    },
    {
     "name": "stdout",
     "output_type": "stream",
     "text": [
      "Batch 220/297, Loss: 0.0020551844500005245\n"
     ]
    },
    {
     "name": "stderr",
     "output_type": "stream",
     "text": [
      "Epoch 3:  78%|████████████████████████████████████████████████████               | 231/297 [5:11:33<1:28:26, 80.40s/it]"
     ]
    },
    {
     "name": "stdout",
     "output_type": "stream",
     "text": [
      "Batch 230/297, Loss: 0.0003010709770023823\n"
     ]
    },
    {
     "name": "stderr",
     "output_type": "stream",
     "text": [
      "Epoch 3:  81%|██████████████████████████████████████████████████████▎            | 241/297 [5:24:44<1:14:26, 79.77s/it]"
     ]
    },
    {
     "name": "stdout",
     "output_type": "stream",
     "text": [
      "Batch 240/297, Loss: 0.0005130187491886318\n"
     ]
    },
    {
     "name": "stderr",
     "output_type": "stream",
     "text": [
      "Epoch 3:  85%|████████████████████████████████████████████████████████▌          | 251/297 [5:38:01<1:00:33, 78.98s/it]"
     ]
    },
    {
     "name": "stdout",
     "output_type": "stream",
     "text": [
      "Batch 250/297, Loss: 0.0003388698969502002\n"
     ]
    },
    {
     "name": "stderr",
     "output_type": "stream",
     "text": [
      "Epoch 3:  88%|████████████████████████████████████████████████████████████▋        | 261/297 [5:51:19<47:49, 79.71s/it]"
     ]
    },
    {
     "name": "stdout",
     "output_type": "stream",
     "text": [
      "Batch 260/297, Loss: 0.000299345439998433\n"
     ]
    },
    {
     "name": "stderr",
     "output_type": "stream",
     "text": [
      "Epoch 3:  91%|██████████████████████████████████████████████████████████████▉      | 271/297 [6:04:43<35:07, 81.07s/it]"
     ]
    },
    {
     "name": "stdout",
     "output_type": "stream",
     "text": [
      "Batch 270/297, Loss: 0.00017948253662325442\n"
     ]
    },
    {
     "name": "stderr",
     "output_type": "stream",
     "text": [
      "Epoch 3:  95%|█████████████████████████████████████████████████████████████████▎   | 281/297 [6:17:58<21:27, 80.46s/it]"
     ]
    },
    {
     "name": "stdout",
     "output_type": "stream",
     "text": [
      "Batch 280/297, Loss: 0.00040703380363993347\n"
     ]
    },
    {
     "name": "stderr",
     "output_type": "stream",
     "text": [
      "Epoch 3:  98%|███████████████████████████████████████████████████████████████████▌ | 291/297 [6:31:13<07:52, 78.75s/it]"
     ]
    },
    {
     "name": "stdout",
     "output_type": "stream",
     "text": [
      "Batch 290/297, Loss: 0.0001468476402806118\n"
     ]
    },
    {
     "name": "stderr",
     "output_type": "stream",
     "text": [
      "Epoch 3: 100%|█████████████████████████████████████████████████████████████████████| 297/297 [6:38:58<00:00, 80.60s/it]"
     ]
    },
    {
     "name": "stdout",
     "output_type": "stream",
     "text": [
      "\n",
      "Epoch 3/3, Average Loss: 0.0007314673078721483\n"
     ]
    },
    {
     "name": "stderr",
     "output_type": "stream",
     "text": [
      "\n"
     ]
    }
   ],
   "source": [
    "import os\n",
    "import torch\n",
    "import torch.nn as nn\n",
    "import torch.optim as optim\n",
    "from torch.utils.data import DataLoader, Dataset\n",
    "from torchvision import transforms\n",
    "import torch.nn.functional as F\n",
    "from PIL import Image\n",
    "from tqdm import tqdm\n",
    "\n",
    "# Define device\n",
    "device = torch.device('cuda' if torch.cuda.is_available() else 'cpu')\n",
    "\n",
    "class FrameInterpolationModel(nn.Module):\n",
    "    def __init__(self):\n",
    "        super().__init__()\n",
    "        self.feature_extractor = nn.ModuleList([\n",
    "            nn.Sequential(\n",
    "                nn.Conv2d(6, 64, 3, 1, 1),\n",
    "                nn.ReLU(inplace=True),\n",
    "                nn.Conv2d(64, 128, 3, 1, 1),\n",
    "                nn.ReLU(inplace=True)\n",
    "            ) for _ in range(3)\n",
    "        ])\n",
    "        self.resize = nn.Upsample(size=(90, 160), mode='bilinear', align_corners=False)\n",
    "        self.fusion_conv = nn.Conv2d(384, 128, 3, 1, 1)\n",
    "        self.upsample_conv = nn.ConvTranspose2d(128, 3, 3, 2, 1, 1, 1)\n",
    "\n",
    "    def forward(self, x):\n",
    "        feature_maps = [extractor(x) for extractor in self.feature_extractor]\n",
    "        feature_maps_resized = [self.resize(fm) for fm in feature_maps]\n",
    "        x = torch.cat(feature_maps_resized, 1)\n",
    "        x = F.relu(self.fusion_conv(x))\n",
    "        x = self.upsample_conv(x)\n",
    "        return x\n",
    "\n",
    "class FrameInterpolationDataset(Dataset):\n",
    "    def __init__(self, root_dir, transform=None):\n",
    "        self.root_dir = root_dir\n",
    "        self.transform = transform\n",
    "        self.num_frames_per_video = 190\n",
    "        self.start_frame_number = 100000  \n",
    "\n",
    "    def __len__(self):\n",
    "        return self.num_frames_per_video * 25  \n",
    "\n",
    "    def __getitem__(self, idx):\n",
    "        frame_idx = idx % self.num_frames_per_video\n",
    "        video_idx = idx // self.num_frames_per_video\n",
    "        frame_number = self.start_frame_number + frame_idx\n",
    "\n",
    "        frame_folder = self.root_dir\n",
    "        frame1_path = os.path.join(frame_folder, f\"frame_{frame_number :06d}.jpg\")\n",
    "        frame2_path = os.path.join(frame_folder, f\"frame_{frame_number + 1:06d}.jpg\")\n",
    "        target_path = os.path.join(frame_folder, f\"frame_{frame_number + 2:06d}.jpg\")\n",
    "\n",
    "        frame1, frame2, target = map(Image.open, (frame1_path, frame2_path, target_path))\n",
    "\n",
    "        if self.transform:\n",
    "            frame1, frame2, target = map(self.transform, (frame1, frame2, target))\n",
    "\n",
    "        return frame1, frame2, target\n",
    "\n",
    "model = FrameInterpolationModel().to(device)  # Move model to GPU\n",
    "criterion = nn.MSELoss()\n",
    "optimizer = optim.Adam(model.parameters(), lr=0.001)\n",
    "\n",
    "print(\"Loading dataset...\")\n",
    "batch_size = 16 # Adjust as necessary\n",
    "dataset = FrameInterpolationDataset(root_dir='C:\\\\Users\\\\adhik\\\\Frame Interpolation\\\\weather data', transform=transforms.ToTensor())\n",
    "dataloader = DataLoader(dataset, batch_size=batch_size, shuffle=True)\n",
    "print(\"Dataset loaded.\")\n",
    "\n",
    "print(\"Training model...\")\n",
    "num_epochs = 3  # Set the number of epochs here\n",
    "for epoch in range(num_epochs):\n",
    "    print(f\"\\nEpoch {epoch+1}/{num_epochs}\")\n",
    "    epoch_loss = 0\n",
    "    \n",
    "    for batch_idx, (frame1, frame2, target) in enumerate(tqdm(dataloader, desc=f\"Epoch {epoch+1}\")):\n",
    "        # Move data to GPU\n",
    "        frame1, frame2, target = frame1.to(device), frame2.to(device), target.to(device)\n",
    "        \n",
    "        inputs = torch.cat((frame1, frame2), 1)\n",
    "        optimizer.zero_grad()\n",
    "        outputs = model(inputs)\n",
    "        \n",
    "        target_resized = F.interpolate(target, size=outputs.shape[2:], mode='bilinear', align_corners=False)\n",
    "        loss = criterion(outputs, target_resized)\n",
    "        loss.backward()\n",
    "        optimizer.step()\n",
    "        \n",
    "        epoch_loss += loss.item()\n",
    "        \n",
    "        if batch_idx % 10 == 0:\n",
    "            print(f'Batch {batch_idx}/{len(dataloader)}, Loss: {loss.item()}')\n",
    "\n",
    "    avg_epoch_loss = epoch_loss / len(dataloader)\n",
    "    print(f'\\nEpoch {epoch+1}/{num_epochs}, Average Loss: {avg_epoch_loss}', flush=True)\n"
   ]
  },
  {
   "cell_type": "code",
   "execution_count": 4,
   "id": "9fbd34ce-7004-4fe0-9b8a-4500f884f27a",
   "metadata": {},
   "outputs": [],
   "source": [
    "torch.save(model.state_dict(), 'frame_interpolation_model2.pth')"
   ]
  },
  {
   "cell_type": "code",
   "execution_count": 86,
   "id": "08dee90c-8d54-4563-998f-c72fe892718d",
   "metadata": {},
   "outputs": [
    {
     "data": {
      "text/plain": [
       "FrameInterpolationModel(\n",
       "  (feature_extractor): ModuleList(\n",
       "    (0-2): 3 x Sequential(\n",
       "      (0): Conv2d(6, 64, kernel_size=(3, 3), stride=(1, 1), padding=(1, 1))\n",
       "      (1): ReLU(inplace=True)\n",
       "      (2): Conv2d(64, 128, kernel_size=(3, 3), stride=(1, 1), padding=(1, 1))\n",
       "      (3): ReLU(inplace=True)\n",
       "    )\n",
       "  )\n",
       "  (resize): Upsample(size=(90, 160), mode='bilinear')\n",
       "  (fusion_conv): Conv2d(384, 128, kernel_size=(3, 3), stride=(1, 1), padding=(1, 1))\n",
       "  (upsample_conv): ConvTranspose2d(128, 3, kernel_size=(3, 3), stride=(2, 2), padding=(1, 1), output_padding=(1, 1))\n",
       ")"
      ]
     },
     "execution_count": 86,
     "metadata": {},
     "output_type": "execute_result"
    }
   ],
   "source": [
    "model_path = 'frame_interpolation_model2.pth'\n",
    "model = FrameInterpolationModel().to(device)\n",
    "model.load_state_dict(torch.load(model_path))\n",
    "model.eval()"
   ]
  },
  {
   "cell_type": "code",
   "execution_count": 87,
   "id": "cd88ac86-f133-4df8-a5ee-25f3ef38b1cd",
   "metadata": {},
   "outputs": [],
   "source": [
    "import torch\n",
    "import torch.nn.functional as F\n",
    "from torchvision import transforms\n",
    "from PIL import Image\n",
    "import os"
   ]
  },
  {
   "cell_type": "code",
   "execution_count": 88,
   "id": "5091b0c4-b7e2-4ab1-8a52-5e82caa84a09",
   "metadata": {},
   "outputs": [],
   "source": [
    "def interpolate_frame(frame1, frame2, alpha=0.5, scale_factor=2, output_path='interpolated_frame.png'):\n",
    "    transform = transforms.Compose([\n",
    "        transforms.ToTensor(),\n",
    "    ])\n",
    "    \n",
    "    # Load mod\n",
    "    device = torch.device('cuda' if torch.cuda.is_available() else 'cpu')\n",
    "    model = FrameInterpolationModel().to(device)\n",
    "    model_path = 'frame_interpolation_model2.pth'\n",
    "    model.load_state_dict(torch.load(model_path, map_location=device))\n",
    "    model.eval()\n",
    "\n",
    "    frame1 = transform(frame1).unsqueeze(0).to(device)\n",
    "    frame2 = transform(frame2).unsqueeze(0).to(device)\n",
    "\n",
    "    # Interpolate frames\n",
    "    inputs = torch.cat((frame1, frame2), 1)  # Concatenate along the channel dimension\n",
    "    \n",
    "    with torch.no_grad():\n",
    "        output = model(inputs)\n",
    "    \n",
    "    # Upsample the output\n",
    "    height, width = output.shape[2], output.shape[3]\n",
    "    new_size = (width * scale_factor, height * scale_factor)\n",
    "    output = F.interpolate(output, size=new_size, mode='bilinear', align_corners=False)\n",
    "    \n",
    "    # Convert to PIL Image\n",
    "    output_image = transforms.ToPILImage()(output.squeeze(0).cpu())\n",
    "    \n",
    "    # Save the image\n",
    "    output_image.save(output_path)\n",
    "    print(f'Saved: {output_path}')\n",
    "    \n",
    "    return output_image\n",
    "\n"
   ]
  },
  {
   "cell_type": "code",
   "execution_count": 89,
   "id": "76a45a2e-905e-4615-9701-83b4ac8a5966",
   "metadata": {},
   "outputs": [
    {
     "name": "stdout",
     "output_type": "stream",
     "text": [
      "Saved: horseend.png\n"
     ]
    }
   ],
   "source": [
    "frame1_path = 'horse1.jpg'\n",
    "frame2_path = 'horse2.jpg'\n",
    "output_dir = 'interpolated_frames'\n",
    "interpolated_frame = interpolate_frame(frame1, frame2, alpha=0.5, scale_factor=2, output_path='horseend.png')\n"
   ]
  },
  {
   "cell_type": "code",
   "execution_count": 71,
   "id": "0f6baca3-ccee-4b84-9502-7ec1423527bc",
   "metadata": {},
   "outputs": [],
   "source": [
    "def generate_interpolated_frames(frame1_path, frame2_path, output_dir, num_frames=900, scale_factor=2):\n",
    "    # Ensure the output directory exists\n",
    "    os.makedirs(output_dir, exist_ok=True)\n",
    "\n",
    "    # Load input frames\n",
    "    frame1 = Image.open(frame1_path)\n",
    "    frame2 = Image.open(frame2_path)\n",
    "\n",
    "    for i in range(num_frames):\n",
    "        alpha = i / (num_frames - 1)  # Interpolation coefficient from 0.0 to 1.0\n",
    "        \n",
    "        # Define output path for each frame\n",
    "        output_path = os.path.join(output_dir, f'frame_{i:04d}.png')\n",
    "        \n",
    "        # Generate interpolated frame and save it\n",
    "        interpolate_frame(frame1, frame2, alpha, scale_factor, output_path)\n",
    "    \n",
    "    print(f'All {num_frames} frames have been saved in the directory: {output_dir}')\n"
   ]
  },
  {
   "cell_type": "code",
   "execution_count": 72,
   "id": "1892c725-552e-4803-a2f0-a4f58ebeb68b",
   "metadata": {},
   "outputs": [],
   "source": [
    "# frame1_path = 'frame_100000.jpg'\n",
    "# frame2_path = 'frame_120676.jpg'\n",
    "# output_dir = 'interpolated_frames'"
   ]
  },
  {
   "cell_type": "code",
   "execution_count": 73,
   "id": "1c966ba2-a5a7-4f61-81d9-390f3796a54b",
   "metadata": {},
   "outputs": [
    {
     "name": "stdout",
     "output_type": "stream",
     "text": [
      "Saved: interpolated_frames\\frame_0000.png\n",
      "Saved: interpolated_frames\\frame_0001.png\n",
      "Saved: interpolated_frames\\frame_0002.png\n",
      "Saved: interpolated_frames\\frame_0003.png\n",
      "Saved: interpolated_frames\\frame_0004.png\n",
      "Saved: interpolated_frames\\frame_0005.png\n",
      "Saved: interpolated_frames\\frame_0006.png\n",
      "Saved: interpolated_frames\\frame_0007.png\n",
      "Saved: interpolated_frames\\frame_0008.png\n",
      "Saved: interpolated_frames\\frame_0009.png\n",
      "Saved: interpolated_frames\\frame_0010.png\n",
      "Saved: interpolated_frames\\frame_0011.png\n",
      "Saved: interpolated_frames\\frame_0012.png\n",
      "Saved: interpolated_frames\\frame_0013.png\n",
      "Saved: interpolated_frames\\frame_0014.png\n",
      "Saved: interpolated_frames\\frame_0015.png\n",
      "Saved: interpolated_frames\\frame_0016.png\n",
      "Saved: interpolated_frames\\frame_0017.png\n",
      "Saved: interpolated_frames\\frame_0018.png\n",
      "Saved: interpolated_frames\\frame_0019.png\n",
      "Saved: interpolated_frames\\frame_0020.png\n",
      "Saved: interpolated_frames\\frame_0021.png\n",
      "Saved: interpolated_frames\\frame_0022.png\n",
      "Saved: interpolated_frames\\frame_0023.png\n",
      "Saved: interpolated_frames\\frame_0024.png\n",
      "Saved: interpolated_frames\\frame_0025.png\n",
      "Saved: interpolated_frames\\frame_0026.png\n",
      "Saved: interpolated_frames\\frame_0027.png\n",
      "Saved: interpolated_frames\\frame_0028.png\n",
      "Saved: interpolated_frames\\frame_0029.png\n",
      "Saved: interpolated_frames\\frame_0030.png\n",
      "Saved: interpolated_frames\\frame_0031.png\n",
      "Saved: interpolated_frames\\frame_0032.png\n",
      "Saved: interpolated_frames\\frame_0033.png\n",
      "Saved: interpolated_frames\\frame_0034.png\n",
      "Saved: interpolated_frames\\frame_0035.png\n",
      "Saved: interpolated_frames\\frame_0036.png\n",
      "Saved: interpolated_frames\\frame_0037.png\n",
      "Saved: interpolated_frames\\frame_0038.png\n",
      "Saved: interpolated_frames\\frame_0039.png\n",
      "Saved: interpolated_frames\\frame_0040.png\n",
      "Saved: interpolated_frames\\frame_0041.png\n",
      "Saved: interpolated_frames\\frame_0042.png\n",
      "Saved: interpolated_frames\\frame_0043.png\n",
      "Saved: interpolated_frames\\frame_0044.png\n",
      "Saved: interpolated_frames\\frame_0045.png\n",
      "Saved: interpolated_frames\\frame_0046.png\n",
      "Saved: interpolated_frames\\frame_0047.png\n",
      "Saved: interpolated_frames\\frame_0048.png\n",
      "Saved: interpolated_frames\\frame_0049.png\n",
      "Saved: interpolated_frames\\frame_0050.png\n",
      "Saved: interpolated_frames\\frame_0051.png\n",
      "Saved: interpolated_frames\\frame_0052.png\n",
      "Saved: interpolated_frames\\frame_0053.png\n",
      "Saved: interpolated_frames\\frame_0054.png\n",
      "Saved: interpolated_frames\\frame_0055.png\n",
      "Saved: interpolated_frames\\frame_0056.png\n",
      "Saved: interpolated_frames\\frame_0057.png\n",
      "Saved: interpolated_frames\\frame_0058.png\n",
      "Saved: interpolated_frames\\frame_0059.png\n",
      "Saved: interpolated_frames\\frame_0060.png\n",
      "Saved: interpolated_frames\\frame_0061.png\n",
      "Saved: interpolated_frames\\frame_0062.png\n",
      "Saved: interpolated_frames\\frame_0063.png\n",
      "Saved: interpolated_frames\\frame_0064.png\n",
      "Saved: interpolated_frames\\frame_0065.png\n",
      "Saved: interpolated_frames\\frame_0066.png\n",
      "Saved: interpolated_frames\\frame_0067.png\n",
      "Saved: interpolated_frames\\frame_0068.png\n",
      "Saved: interpolated_frames\\frame_0069.png\n",
      "Saved: interpolated_frames\\frame_0070.png\n",
      "Saved: interpolated_frames\\frame_0071.png\n",
      "Saved: interpolated_frames\\frame_0072.png\n",
      "Saved: interpolated_frames\\frame_0073.png\n",
      "Saved: interpolated_frames\\frame_0074.png\n",
      "Saved: interpolated_frames\\frame_0075.png\n",
      "Saved: interpolated_frames\\frame_0076.png\n",
      "Saved: interpolated_frames\\frame_0077.png\n",
      "Saved: interpolated_frames\\frame_0078.png\n",
      "Saved: interpolated_frames\\frame_0079.png\n",
      "Saved: interpolated_frames\\frame_0080.png\n",
      "Saved: interpolated_frames\\frame_0081.png\n",
      "Saved: interpolated_frames\\frame_0082.png\n",
      "Saved: interpolated_frames\\frame_0083.png\n",
      "Saved: interpolated_frames\\frame_0084.png\n",
      "Saved: interpolated_frames\\frame_0085.png\n",
      "Saved: interpolated_frames\\frame_0086.png\n",
      "Saved: interpolated_frames\\frame_0087.png\n",
      "Saved: interpolated_frames\\frame_0088.png\n",
      "Saved: interpolated_frames\\frame_0089.png\n",
      "Saved: interpolated_frames\\frame_0090.png\n",
      "Saved: interpolated_frames\\frame_0091.png\n",
      "Saved: interpolated_frames\\frame_0092.png\n",
      "Saved: interpolated_frames\\frame_0093.png\n",
      "Saved: interpolated_frames\\frame_0094.png\n",
      "Saved: interpolated_frames\\frame_0095.png\n",
      "Saved: interpolated_frames\\frame_0096.png\n",
      "Saved: interpolated_frames\\frame_0097.png\n",
      "Saved: interpolated_frames\\frame_0098.png\n",
      "Saved: interpolated_frames\\frame_0099.png\n",
      "Saved: interpolated_frames\\frame_0100.png\n",
      "Saved: interpolated_frames\\frame_0101.png\n",
      "Saved: interpolated_frames\\frame_0102.png\n",
      "Saved: interpolated_frames\\frame_0103.png\n",
      "Saved: interpolated_frames\\frame_0104.png\n",
      "Saved: interpolated_frames\\frame_0105.png\n",
      "Saved: interpolated_frames\\frame_0106.png\n",
      "Saved: interpolated_frames\\frame_0107.png\n",
      "Saved: interpolated_frames\\frame_0108.png\n",
      "Saved: interpolated_frames\\frame_0109.png\n",
      "Saved: interpolated_frames\\frame_0110.png\n",
      "Saved: interpolated_frames\\frame_0111.png\n",
      "Saved: interpolated_frames\\frame_0112.png\n",
      "Saved: interpolated_frames\\frame_0113.png\n",
      "Saved: interpolated_frames\\frame_0114.png\n",
      "Saved: interpolated_frames\\frame_0115.png\n",
      "Saved: interpolated_frames\\frame_0116.png\n",
      "Saved: interpolated_frames\\frame_0117.png\n",
      "Saved: interpolated_frames\\frame_0118.png\n",
      "Saved: interpolated_frames\\frame_0119.png\n",
      "Saved: interpolated_frames\\frame_0120.png\n",
      "Saved: interpolated_frames\\frame_0121.png\n",
      "Saved: interpolated_frames\\frame_0122.png\n",
      "Saved: interpolated_frames\\frame_0123.png\n",
      "Saved: interpolated_frames\\frame_0124.png\n",
      "Saved: interpolated_frames\\frame_0125.png\n",
      "Saved: interpolated_frames\\frame_0126.png\n",
      "Saved: interpolated_frames\\frame_0127.png\n",
      "Saved: interpolated_frames\\frame_0128.png\n",
      "Saved: interpolated_frames\\frame_0129.png\n",
      "Saved: interpolated_frames\\frame_0130.png\n",
      "Saved: interpolated_frames\\frame_0131.png\n",
      "Saved: interpolated_frames\\frame_0132.png\n",
      "Saved: interpolated_frames\\frame_0133.png\n",
      "Saved: interpolated_frames\\frame_0134.png\n",
      "Saved: interpolated_frames\\frame_0135.png\n",
      "Saved: interpolated_frames\\frame_0136.png\n",
      "Saved: interpolated_frames\\frame_0137.png\n",
      "Saved: interpolated_frames\\frame_0138.png\n",
      "Saved: interpolated_frames\\frame_0139.png\n",
      "Saved: interpolated_frames\\frame_0140.png\n",
      "Saved: interpolated_frames\\frame_0141.png\n",
      "Saved: interpolated_frames\\frame_0142.png\n",
      "Saved: interpolated_frames\\frame_0143.png\n",
      "Saved: interpolated_frames\\frame_0144.png\n",
      "Saved: interpolated_frames\\frame_0145.png\n",
      "Saved: interpolated_frames\\frame_0146.png\n",
      "Saved: interpolated_frames\\frame_0147.png\n",
      "Saved: interpolated_frames\\frame_0148.png\n",
      "Saved: interpolated_frames\\frame_0149.png\n",
      "Saved: interpolated_frames\\frame_0150.png\n",
      "Saved: interpolated_frames\\frame_0151.png\n",
      "Saved: interpolated_frames\\frame_0152.png\n",
      "Saved: interpolated_frames\\frame_0153.png\n",
      "Saved: interpolated_frames\\frame_0154.png\n",
      "Saved: interpolated_frames\\frame_0155.png\n",
      "Saved: interpolated_frames\\frame_0156.png\n",
      "Saved: interpolated_frames\\frame_0157.png\n",
      "Saved: interpolated_frames\\frame_0158.png\n",
      "Saved: interpolated_frames\\frame_0159.png\n",
      "Saved: interpolated_frames\\frame_0160.png\n",
      "Saved: interpolated_frames\\frame_0161.png\n",
      "Saved: interpolated_frames\\frame_0162.png\n",
      "Saved: interpolated_frames\\frame_0163.png\n",
      "Saved: interpolated_frames\\frame_0164.png\n",
      "Saved: interpolated_frames\\frame_0165.png\n",
      "Saved: interpolated_frames\\frame_0166.png\n",
      "Saved: interpolated_frames\\frame_0167.png\n",
      "Saved: interpolated_frames\\frame_0168.png\n",
      "Saved: interpolated_frames\\frame_0169.png\n",
      "Saved: interpolated_frames\\frame_0170.png\n",
      "Saved: interpolated_frames\\frame_0171.png\n",
      "Saved: interpolated_frames\\frame_0172.png\n",
      "Saved: interpolated_frames\\frame_0173.png\n",
      "Saved: interpolated_frames\\frame_0174.png\n",
      "Saved: interpolated_frames\\frame_0175.png\n",
      "Saved: interpolated_frames\\frame_0176.png\n",
      "Saved: interpolated_frames\\frame_0177.png\n",
      "Saved: interpolated_frames\\frame_0178.png\n",
      "Saved: interpolated_frames\\frame_0179.png\n",
      "Saved: interpolated_frames\\frame_0180.png\n",
      "Saved: interpolated_frames\\frame_0181.png\n",
      "Saved: interpolated_frames\\frame_0182.png\n",
      "Saved: interpolated_frames\\frame_0183.png\n",
      "Saved: interpolated_frames\\frame_0184.png\n",
      "Saved: interpolated_frames\\frame_0185.png\n",
      "Saved: interpolated_frames\\frame_0186.png\n",
      "Saved: interpolated_frames\\frame_0187.png\n",
      "Saved: interpolated_frames\\frame_0188.png\n",
      "Saved: interpolated_frames\\frame_0189.png\n",
      "Saved: interpolated_frames\\frame_0190.png\n",
      "Saved: interpolated_frames\\frame_0191.png\n",
      "Saved: interpolated_frames\\frame_0192.png\n",
      "Saved: interpolated_frames\\frame_0193.png\n",
      "Saved: interpolated_frames\\frame_0194.png\n",
      "Saved: interpolated_frames\\frame_0195.png\n",
      "Saved: interpolated_frames\\frame_0196.png\n",
      "Saved: interpolated_frames\\frame_0197.png\n",
      "Saved: interpolated_frames\\frame_0198.png\n",
      "Saved: interpolated_frames\\frame_0199.png\n",
      "Saved: interpolated_frames\\frame_0200.png\n",
      "Saved: interpolated_frames\\frame_0201.png\n",
      "Saved: interpolated_frames\\frame_0202.png\n",
      "Saved: interpolated_frames\\frame_0203.png\n",
      "Saved: interpolated_frames\\frame_0204.png\n",
      "Saved: interpolated_frames\\frame_0205.png\n",
      "Saved: interpolated_frames\\frame_0206.png\n",
      "Saved: interpolated_frames\\frame_0207.png\n",
      "Saved: interpolated_frames\\frame_0208.png\n",
      "Saved: interpolated_frames\\frame_0209.png\n",
      "Saved: interpolated_frames\\frame_0210.png\n",
      "Saved: interpolated_frames\\frame_0211.png\n",
      "Saved: interpolated_frames\\frame_0212.png\n",
      "Saved: interpolated_frames\\frame_0213.png\n",
      "Saved: interpolated_frames\\frame_0214.png\n",
      "Saved: interpolated_frames\\frame_0215.png\n",
      "Saved: interpolated_frames\\frame_0216.png\n",
      "Saved: interpolated_frames\\frame_0217.png\n",
      "Saved: interpolated_frames\\frame_0218.png\n",
      "Saved: interpolated_frames\\frame_0219.png\n",
      "Saved: interpolated_frames\\frame_0220.png\n",
      "Saved: interpolated_frames\\frame_0221.png\n",
      "Saved: interpolated_frames\\frame_0222.png\n",
      "Saved: interpolated_frames\\frame_0223.png\n",
      "Saved: interpolated_frames\\frame_0224.png\n",
      "Saved: interpolated_frames\\frame_0225.png\n",
      "Saved: interpolated_frames\\frame_0226.png\n",
      "Saved: interpolated_frames\\frame_0227.png\n",
      "Saved: interpolated_frames\\frame_0228.png\n",
      "Saved: interpolated_frames\\frame_0229.png\n",
      "Saved: interpolated_frames\\frame_0230.png\n",
      "Saved: interpolated_frames\\frame_0231.png\n",
      "Saved: interpolated_frames\\frame_0232.png\n",
      "Saved: interpolated_frames\\frame_0233.png\n",
      "Saved: interpolated_frames\\frame_0234.png\n",
      "Saved: interpolated_frames\\frame_0235.png\n",
      "Saved: interpolated_frames\\frame_0236.png\n",
      "Saved: interpolated_frames\\frame_0237.png\n",
      "Saved: interpolated_frames\\frame_0238.png\n",
      "Saved: interpolated_frames\\frame_0239.png\n",
      "Saved: interpolated_frames\\frame_0240.png\n",
      "Saved: interpolated_frames\\frame_0241.png\n",
      "Saved: interpolated_frames\\frame_0242.png\n",
      "Saved: interpolated_frames\\frame_0243.png\n",
      "Saved: interpolated_frames\\frame_0244.png\n",
      "Saved: interpolated_frames\\frame_0245.png\n",
      "Saved: interpolated_frames\\frame_0246.png\n",
      "Saved: interpolated_frames\\frame_0247.png\n",
      "Saved: interpolated_frames\\frame_0248.png\n",
      "Saved: interpolated_frames\\frame_0249.png\n",
      "Saved: interpolated_frames\\frame_0250.png\n",
      "Saved: interpolated_frames\\frame_0251.png\n",
      "Saved: interpolated_frames\\frame_0252.png\n",
      "Saved: interpolated_frames\\frame_0253.png\n",
      "Saved: interpolated_frames\\frame_0254.png\n",
      "Saved: interpolated_frames\\frame_0255.png\n",
      "Saved: interpolated_frames\\frame_0256.png\n",
      "Saved: interpolated_frames\\frame_0257.png\n",
      "Saved: interpolated_frames\\frame_0258.png\n",
      "Saved: interpolated_frames\\frame_0259.png\n",
      "Saved: interpolated_frames\\frame_0260.png\n",
      "Saved: interpolated_frames\\frame_0261.png\n",
      "Saved: interpolated_frames\\frame_0262.png\n",
      "Saved: interpolated_frames\\frame_0263.png\n",
      "Saved: interpolated_frames\\frame_0264.png\n",
      "Saved: interpolated_frames\\frame_0265.png\n",
      "Saved: interpolated_frames\\frame_0266.png\n",
      "Saved: interpolated_frames\\frame_0267.png\n",
      "Saved: interpolated_frames\\frame_0268.png\n",
      "Saved: interpolated_frames\\frame_0269.png\n",
      "Saved: interpolated_frames\\frame_0270.png\n",
      "Saved: interpolated_frames\\frame_0271.png\n",
      "Saved: interpolated_frames\\frame_0272.png\n",
      "Saved: interpolated_frames\\frame_0273.png\n",
      "Saved: interpolated_frames\\frame_0274.png\n",
      "Saved: interpolated_frames\\frame_0275.png\n",
      "Saved: interpolated_frames\\frame_0276.png\n",
      "Saved: interpolated_frames\\frame_0277.png\n",
      "Saved: interpolated_frames\\frame_0278.png\n",
      "Saved: interpolated_frames\\frame_0279.png\n",
      "Saved: interpolated_frames\\frame_0280.png\n",
      "Saved: interpolated_frames\\frame_0281.png\n",
      "Saved: interpolated_frames\\frame_0282.png\n",
      "Saved: interpolated_frames\\frame_0283.png\n",
      "Saved: interpolated_frames\\frame_0284.png\n",
      "Saved: interpolated_frames\\frame_0285.png\n",
      "Saved: interpolated_frames\\frame_0286.png\n",
      "Saved: interpolated_frames\\frame_0287.png\n",
      "Saved: interpolated_frames\\frame_0288.png\n",
      "Saved: interpolated_frames\\frame_0289.png\n",
      "Saved: interpolated_frames\\frame_0290.png\n",
      "Saved: interpolated_frames\\frame_0291.png\n",
      "Saved: interpolated_frames\\frame_0292.png\n",
      "Saved: interpolated_frames\\frame_0293.png\n",
      "Saved: interpolated_frames\\frame_0294.png\n",
      "Saved: interpolated_frames\\frame_0295.png\n",
      "Saved: interpolated_frames\\frame_0296.png\n",
      "Saved: interpolated_frames\\frame_0297.png\n",
      "Saved: interpolated_frames\\frame_0298.png\n",
      "Saved: interpolated_frames\\frame_0299.png\n",
      "Saved: interpolated_frames\\frame_0300.png\n",
      "Saved: interpolated_frames\\frame_0301.png\n",
      "Saved: interpolated_frames\\frame_0302.png\n",
      "Saved: interpolated_frames\\frame_0303.png\n",
      "Saved: interpolated_frames\\frame_0304.png\n",
      "Saved: interpolated_frames\\frame_0305.png\n",
      "Saved: interpolated_frames\\frame_0306.png\n",
      "Saved: interpolated_frames\\frame_0307.png\n",
      "Saved: interpolated_frames\\frame_0308.png\n",
      "Saved: interpolated_frames\\frame_0309.png\n",
      "Saved: interpolated_frames\\frame_0310.png\n",
      "Saved: interpolated_frames\\frame_0311.png\n",
      "Saved: interpolated_frames\\frame_0312.png\n",
      "Saved: interpolated_frames\\frame_0313.png\n",
      "Saved: interpolated_frames\\frame_0314.png\n",
      "Saved: interpolated_frames\\frame_0315.png\n",
      "Saved: interpolated_frames\\frame_0316.png\n",
      "Saved: interpolated_frames\\frame_0317.png\n",
      "Saved: interpolated_frames\\frame_0318.png\n",
      "Saved: interpolated_frames\\frame_0319.png\n",
      "Saved: interpolated_frames\\frame_0320.png\n",
      "Saved: interpolated_frames\\frame_0321.png\n",
      "Saved: interpolated_frames\\frame_0322.png\n",
      "Saved: interpolated_frames\\frame_0323.png\n",
      "Saved: interpolated_frames\\frame_0324.png\n",
      "Saved: interpolated_frames\\frame_0325.png\n",
      "Saved: interpolated_frames\\frame_0326.png\n",
      "Saved: interpolated_frames\\frame_0327.png\n",
      "Saved: interpolated_frames\\frame_0328.png\n",
      "Saved: interpolated_frames\\frame_0329.png\n",
      "Saved: interpolated_frames\\frame_0330.png\n",
      "Saved: interpolated_frames\\frame_0331.png\n",
      "Saved: interpolated_frames\\frame_0332.png\n",
      "Saved: interpolated_frames\\frame_0333.png\n",
      "Saved: interpolated_frames\\frame_0334.png\n",
      "Saved: interpolated_frames\\frame_0335.png\n",
      "Saved: interpolated_frames\\frame_0336.png\n",
      "Saved: interpolated_frames\\frame_0337.png\n",
      "Saved: interpolated_frames\\frame_0338.png\n",
      "Saved: interpolated_frames\\frame_0339.png\n",
      "Saved: interpolated_frames\\frame_0340.png\n",
      "Saved: interpolated_frames\\frame_0341.png\n",
      "Saved: interpolated_frames\\frame_0342.png\n",
      "Saved: interpolated_frames\\frame_0343.png\n",
      "Saved: interpolated_frames\\frame_0344.png\n",
      "Saved: interpolated_frames\\frame_0345.png\n",
      "Saved: interpolated_frames\\frame_0346.png\n",
      "Saved: interpolated_frames\\frame_0347.png\n",
      "Saved: interpolated_frames\\frame_0348.png\n",
      "Saved: interpolated_frames\\frame_0349.png\n",
      "Saved: interpolated_frames\\frame_0350.png\n",
      "Saved: interpolated_frames\\frame_0351.png\n",
      "Saved: interpolated_frames\\frame_0352.png\n",
      "Saved: interpolated_frames\\frame_0353.png\n",
      "Saved: interpolated_frames\\frame_0354.png\n",
      "Saved: interpolated_frames\\frame_0355.png\n",
      "Saved: interpolated_frames\\frame_0356.png\n",
      "Saved: interpolated_frames\\frame_0357.png\n",
      "Saved: interpolated_frames\\frame_0358.png\n",
      "Saved: interpolated_frames\\frame_0359.png\n",
      "Saved: interpolated_frames\\frame_0360.png\n",
      "Saved: interpolated_frames\\frame_0361.png\n",
      "Saved: interpolated_frames\\frame_0362.png\n",
      "Saved: interpolated_frames\\frame_0363.png\n",
      "Saved: interpolated_frames\\frame_0364.png\n",
      "Saved: interpolated_frames\\frame_0365.png\n",
      "Saved: interpolated_frames\\frame_0366.png\n",
      "Saved: interpolated_frames\\frame_0367.png\n",
      "Saved: interpolated_frames\\frame_0368.png\n",
      "Saved: interpolated_frames\\frame_0369.png\n",
      "Saved: interpolated_frames\\frame_0370.png\n",
      "Saved: interpolated_frames\\frame_0371.png\n",
      "Saved: interpolated_frames\\frame_0372.png\n",
      "Saved: interpolated_frames\\frame_0373.png\n",
      "Saved: interpolated_frames\\frame_0374.png\n",
      "Saved: interpolated_frames\\frame_0375.png\n",
      "Saved: interpolated_frames\\frame_0376.png\n",
      "Saved: interpolated_frames\\frame_0377.png\n",
      "Saved: interpolated_frames\\frame_0378.png\n",
      "Saved: interpolated_frames\\frame_0379.png\n",
      "Saved: interpolated_frames\\frame_0380.png\n",
      "Saved: interpolated_frames\\frame_0381.png\n",
      "Saved: interpolated_frames\\frame_0382.png\n",
      "Saved: interpolated_frames\\frame_0383.png\n",
      "Saved: interpolated_frames\\frame_0384.png\n",
      "Saved: interpolated_frames\\frame_0385.png\n",
      "Saved: interpolated_frames\\frame_0386.png\n",
      "Saved: interpolated_frames\\frame_0387.png\n",
      "Saved: interpolated_frames\\frame_0388.png\n",
      "Saved: interpolated_frames\\frame_0389.png\n",
      "Saved: interpolated_frames\\frame_0390.png\n",
      "Saved: interpolated_frames\\frame_0391.png\n",
      "Saved: interpolated_frames\\frame_0392.png\n",
      "Saved: interpolated_frames\\frame_0393.png\n",
      "Saved: interpolated_frames\\frame_0394.png\n",
      "Saved: interpolated_frames\\frame_0395.png\n",
      "Saved: interpolated_frames\\frame_0396.png\n",
      "Saved: interpolated_frames\\frame_0397.png\n",
      "Saved: interpolated_frames\\frame_0398.png\n",
      "Saved: interpolated_frames\\frame_0399.png\n",
      "Saved: interpolated_frames\\frame_0400.png\n",
      "Saved: interpolated_frames\\frame_0401.png\n",
      "Saved: interpolated_frames\\frame_0402.png\n",
      "Saved: interpolated_frames\\frame_0403.png\n",
      "Saved: interpolated_frames\\frame_0404.png\n",
      "Saved: interpolated_frames\\frame_0405.png\n",
      "Saved: interpolated_frames\\frame_0406.png\n",
      "Saved: interpolated_frames\\frame_0407.png\n",
      "Saved: interpolated_frames\\frame_0408.png\n",
      "Saved: interpolated_frames\\frame_0409.png\n",
      "Saved: interpolated_frames\\frame_0410.png\n",
      "Saved: interpolated_frames\\frame_0411.png\n",
      "Saved: interpolated_frames\\frame_0412.png\n",
      "Saved: interpolated_frames\\frame_0413.png\n",
      "Saved: interpolated_frames\\frame_0414.png\n",
      "Saved: interpolated_frames\\frame_0415.png\n",
      "Saved: interpolated_frames\\frame_0416.png\n",
      "Saved: interpolated_frames\\frame_0417.png\n",
      "Saved: interpolated_frames\\frame_0418.png\n",
      "Saved: interpolated_frames\\frame_0419.png\n",
      "Saved: interpolated_frames\\frame_0420.png\n",
      "Saved: interpolated_frames\\frame_0421.png\n",
      "Saved: interpolated_frames\\frame_0422.png\n",
      "Saved: interpolated_frames\\frame_0423.png\n",
      "Saved: interpolated_frames\\frame_0424.png\n",
      "Saved: interpolated_frames\\frame_0425.png\n",
      "Saved: interpolated_frames\\frame_0426.png\n",
      "Saved: interpolated_frames\\frame_0427.png\n",
      "Saved: interpolated_frames\\frame_0428.png\n",
      "Saved: interpolated_frames\\frame_0429.png\n",
      "Saved: interpolated_frames\\frame_0430.png\n",
      "Saved: interpolated_frames\\frame_0431.png\n",
      "Saved: interpolated_frames\\frame_0432.png\n",
      "Saved: interpolated_frames\\frame_0433.png\n",
      "Saved: interpolated_frames\\frame_0434.png\n",
      "Saved: interpolated_frames\\frame_0435.png\n",
      "Saved: interpolated_frames\\frame_0436.png\n",
      "Saved: interpolated_frames\\frame_0437.png\n",
      "Saved: interpolated_frames\\frame_0438.png\n",
      "Saved: interpolated_frames\\frame_0439.png\n",
      "Saved: interpolated_frames\\frame_0440.png\n",
      "Saved: interpolated_frames\\frame_0441.png\n",
      "Saved: interpolated_frames\\frame_0442.png\n",
      "Saved: interpolated_frames\\frame_0443.png\n",
      "Saved: interpolated_frames\\frame_0444.png\n",
      "Saved: interpolated_frames\\frame_0445.png\n",
      "Saved: interpolated_frames\\frame_0446.png\n",
      "Saved: interpolated_frames\\frame_0447.png\n",
      "Saved: interpolated_frames\\frame_0448.png\n",
      "Saved: interpolated_frames\\frame_0449.png\n",
      "Saved: interpolated_frames\\frame_0450.png\n",
      "Saved: interpolated_frames\\frame_0451.png\n",
      "Saved: interpolated_frames\\frame_0452.png\n",
      "Saved: interpolated_frames\\frame_0453.png\n",
      "Saved: interpolated_frames\\frame_0454.png\n",
      "Saved: interpolated_frames\\frame_0455.png\n",
      "Saved: interpolated_frames\\frame_0456.png\n",
      "Saved: interpolated_frames\\frame_0457.png\n",
      "Saved: interpolated_frames\\frame_0458.png\n",
      "Saved: interpolated_frames\\frame_0459.png\n",
      "Saved: interpolated_frames\\frame_0460.png\n",
      "Saved: interpolated_frames\\frame_0461.png\n",
      "Saved: interpolated_frames\\frame_0462.png\n",
      "Saved: interpolated_frames\\frame_0463.png\n",
      "Saved: interpolated_frames\\frame_0464.png\n",
      "Saved: interpolated_frames\\frame_0465.png\n",
      "Saved: interpolated_frames\\frame_0466.png\n",
      "Saved: interpolated_frames\\frame_0467.png\n",
      "Saved: interpolated_frames\\frame_0468.png\n",
      "Saved: interpolated_frames\\frame_0469.png\n",
      "Saved: interpolated_frames\\frame_0470.png\n",
      "Saved: interpolated_frames\\frame_0471.png\n",
      "Saved: interpolated_frames\\frame_0472.png\n",
      "Saved: interpolated_frames\\frame_0473.png\n",
      "Saved: interpolated_frames\\frame_0474.png\n",
      "Saved: interpolated_frames\\frame_0475.png\n",
      "Saved: interpolated_frames\\frame_0476.png\n",
      "Saved: interpolated_frames\\frame_0477.png\n",
      "Saved: interpolated_frames\\frame_0478.png\n",
      "Saved: interpolated_frames\\frame_0479.png\n",
      "Saved: interpolated_frames\\frame_0480.png\n",
      "Saved: interpolated_frames\\frame_0481.png\n",
      "Saved: interpolated_frames\\frame_0482.png\n",
      "Saved: interpolated_frames\\frame_0483.png\n",
      "Saved: interpolated_frames\\frame_0484.png\n",
      "Saved: interpolated_frames\\frame_0485.png\n",
      "Saved: interpolated_frames\\frame_0486.png\n",
      "Saved: interpolated_frames\\frame_0487.png\n",
      "Saved: interpolated_frames\\frame_0488.png\n",
      "Saved: interpolated_frames\\frame_0489.png\n",
      "Saved: interpolated_frames\\frame_0490.png\n",
      "Saved: interpolated_frames\\frame_0491.png\n",
      "Saved: interpolated_frames\\frame_0492.png\n",
      "Saved: interpolated_frames\\frame_0493.png\n",
      "Saved: interpolated_frames\\frame_0494.png\n",
      "Saved: interpolated_frames\\frame_0495.png\n",
      "Saved: interpolated_frames\\frame_0496.png\n",
      "Saved: interpolated_frames\\frame_0497.png\n",
      "Saved: interpolated_frames\\frame_0498.png\n",
      "Saved: interpolated_frames\\frame_0499.png\n",
      "Saved: interpolated_frames\\frame_0500.png\n",
      "Saved: interpolated_frames\\frame_0501.png\n",
      "Saved: interpolated_frames\\frame_0502.png\n",
      "Saved: interpolated_frames\\frame_0503.png\n",
      "Saved: interpolated_frames\\frame_0504.png\n",
      "Saved: interpolated_frames\\frame_0505.png\n",
      "Saved: interpolated_frames\\frame_0506.png\n",
      "Saved: interpolated_frames\\frame_0507.png\n",
      "Saved: interpolated_frames\\frame_0508.png\n",
      "Saved: interpolated_frames\\frame_0509.png\n",
      "Saved: interpolated_frames\\frame_0510.png\n",
      "Saved: interpolated_frames\\frame_0511.png\n",
      "Saved: interpolated_frames\\frame_0512.png\n",
      "Saved: interpolated_frames\\frame_0513.png\n",
      "Saved: interpolated_frames\\frame_0514.png\n",
      "Saved: interpolated_frames\\frame_0515.png\n",
      "Saved: interpolated_frames\\frame_0516.png\n",
      "Saved: interpolated_frames\\frame_0517.png\n",
      "Saved: interpolated_frames\\frame_0518.png\n",
      "Saved: interpolated_frames\\frame_0519.png\n",
      "Saved: interpolated_frames\\frame_0520.png\n",
      "Saved: interpolated_frames\\frame_0521.png\n",
      "Saved: interpolated_frames\\frame_0522.png\n",
      "Saved: interpolated_frames\\frame_0523.png\n",
      "Saved: interpolated_frames\\frame_0524.png\n",
      "Saved: interpolated_frames\\frame_0525.png\n",
      "Saved: interpolated_frames\\frame_0526.png\n",
      "Saved: interpolated_frames\\frame_0527.png\n",
      "Saved: interpolated_frames\\frame_0528.png\n",
      "Saved: interpolated_frames\\frame_0529.png\n",
      "Saved: interpolated_frames\\frame_0530.png\n",
      "Saved: interpolated_frames\\frame_0531.png\n",
      "Saved: interpolated_frames\\frame_0532.png\n",
      "Saved: interpolated_frames\\frame_0533.png\n",
      "Saved: interpolated_frames\\frame_0534.png\n",
      "Saved: interpolated_frames\\frame_0535.png\n",
      "Saved: interpolated_frames\\frame_0536.png\n",
      "Saved: interpolated_frames\\frame_0537.png\n",
      "Saved: interpolated_frames\\frame_0538.png\n",
      "Saved: interpolated_frames\\frame_0539.png\n",
      "Saved: interpolated_frames\\frame_0540.png\n",
      "Saved: interpolated_frames\\frame_0541.png\n",
      "Saved: interpolated_frames\\frame_0542.png\n",
      "Saved: interpolated_frames\\frame_0543.png\n",
      "Saved: interpolated_frames\\frame_0544.png\n",
      "Saved: interpolated_frames\\frame_0545.png\n",
      "Saved: interpolated_frames\\frame_0546.png\n",
      "Saved: interpolated_frames\\frame_0547.png\n",
      "Saved: interpolated_frames\\frame_0548.png\n",
      "Saved: interpolated_frames\\frame_0549.png\n",
      "Saved: interpolated_frames\\frame_0550.png\n",
      "Saved: interpolated_frames\\frame_0551.png\n",
      "Saved: interpolated_frames\\frame_0552.png\n",
      "Saved: interpolated_frames\\frame_0553.png\n",
      "Saved: interpolated_frames\\frame_0554.png\n",
      "Saved: interpolated_frames\\frame_0555.png\n",
      "Saved: interpolated_frames\\frame_0556.png\n",
      "Saved: interpolated_frames\\frame_0557.png\n",
      "Saved: interpolated_frames\\frame_0558.png\n",
      "Saved: interpolated_frames\\frame_0559.png\n",
      "Saved: interpolated_frames\\frame_0560.png\n",
      "Saved: interpolated_frames\\frame_0561.png\n",
      "Saved: interpolated_frames\\frame_0562.png\n",
      "Saved: interpolated_frames\\frame_0563.png\n",
      "Saved: interpolated_frames\\frame_0564.png\n",
      "Saved: interpolated_frames\\frame_0565.png\n",
      "Saved: interpolated_frames\\frame_0566.png\n",
      "Saved: interpolated_frames\\frame_0567.png\n",
      "Saved: interpolated_frames\\frame_0568.png\n",
      "Saved: interpolated_frames\\frame_0569.png\n",
      "Saved: interpolated_frames\\frame_0570.png\n",
      "Saved: interpolated_frames\\frame_0571.png\n",
      "Saved: interpolated_frames\\frame_0572.png\n",
      "Saved: interpolated_frames\\frame_0573.png\n",
      "Saved: interpolated_frames\\frame_0574.png\n",
      "Saved: interpolated_frames\\frame_0575.png\n",
      "Saved: interpolated_frames\\frame_0576.png\n",
      "Saved: interpolated_frames\\frame_0577.png\n",
      "Saved: interpolated_frames\\frame_0578.png\n",
      "Saved: interpolated_frames\\frame_0579.png\n",
      "Saved: interpolated_frames\\frame_0580.png\n",
      "Saved: interpolated_frames\\frame_0581.png\n",
      "Saved: interpolated_frames\\frame_0582.png\n",
      "Saved: interpolated_frames\\frame_0583.png\n",
      "Saved: interpolated_frames\\frame_0584.png\n",
      "Saved: interpolated_frames\\frame_0585.png\n",
      "Saved: interpolated_frames\\frame_0586.png\n",
      "Saved: interpolated_frames\\frame_0587.png\n",
      "Saved: interpolated_frames\\frame_0588.png\n",
      "Saved: interpolated_frames\\frame_0589.png\n",
      "Saved: interpolated_frames\\frame_0590.png\n",
      "Saved: interpolated_frames\\frame_0591.png\n",
      "Saved: interpolated_frames\\frame_0592.png\n",
      "Saved: interpolated_frames\\frame_0593.png\n",
      "Saved: interpolated_frames\\frame_0594.png\n",
      "Saved: interpolated_frames\\frame_0595.png\n",
      "Saved: interpolated_frames\\frame_0596.png\n",
      "Saved: interpolated_frames\\frame_0597.png\n",
      "Saved: interpolated_frames\\frame_0598.png\n",
      "Saved: interpolated_frames\\frame_0599.png\n",
      "Saved: interpolated_frames\\frame_0600.png\n",
      "Saved: interpolated_frames\\frame_0601.png\n",
      "Saved: interpolated_frames\\frame_0602.png\n",
      "Saved: interpolated_frames\\frame_0603.png\n",
      "Saved: interpolated_frames\\frame_0604.png\n",
      "Saved: interpolated_frames\\frame_0605.png\n",
      "Saved: interpolated_frames\\frame_0606.png\n",
      "Saved: interpolated_frames\\frame_0607.png\n",
      "Saved: interpolated_frames\\frame_0608.png\n",
      "Saved: interpolated_frames\\frame_0609.png\n",
      "Saved: interpolated_frames\\frame_0610.png\n",
      "Saved: interpolated_frames\\frame_0611.png\n",
      "Saved: interpolated_frames\\frame_0612.png\n",
      "Saved: interpolated_frames\\frame_0613.png\n",
      "Saved: interpolated_frames\\frame_0614.png\n",
      "Saved: interpolated_frames\\frame_0615.png\n",
      "Saved: interpolated_frames\\frame_0616.png\n",
      "Saved: interpolated_frames\\frame_0617.png\n",
      "Saved: interpolated_frames\\frame_0618.png\n",
      "Saved: interpolated_frames\\frame_0619.png\n",
      "Saved: interpolated_frames\\frame_0620.png\n",
      "Saved: interpolated_frames\\frame_0621.png\n",
      "Saved: interpolated_frames\\frame_0622.png\n",
      "Saved: interpolated_frames\\frame_0623.png\n",
      "Saved: interpolated_frames\\frame_0624.png\n",
      "Saved: interpolated_frames\\frame_0625.png\n",
      "Saved: interpolated_frames\\frame_0626.png\n",
      "Saved: interpolated_frames\\frame_0627.png\n",
      "Saved: interpolated_frames\\frame_0628.png\n",
      "Saved: interpolated_frames\\frame_0629.png\n",
      "Saved: interpolated_frames\\frame_0630.png\n",
      "Saved: interpolated_frames\\frame_0631.png\n",
      "Saved: interpolated_frames\\frame_0632.png\n",
      "Saved: interpolated_frames\\frame_0633.png\n",
      "Saved: interpolated_frames\\frame_0634.png\n",
      "Saved: interpolated_frames\\frame_0635.png\n",
      "Saved: interpolated_frames\\frame_0636.png\n",
      "Saved: interpolated_frames\\frame_0637.png\n",
      "Saved: interpolated_frames\\frame_0638.png\n",
      "Saved: interpolated_frames\\frame_0639.png\n",
      "Saved: interpolated_frames\\frame_0640.png\n",
      "Saved: interpolated_frames\\frame_0641.png\n",
      "Saved: interpolated_frames\\frame_0642.png\n",
      "Saved: interpolated_frames\\frame_0643.png\n",
      "Saved: interpolated_frames\\frame_0644.png\n",
      "Saved: interpolated_frames\\frame_0645.png\n",
      "Saved: interpolated_frames\\frame_0646.png\n",
      "Saved: interpolated_frames\\frame_0647.png\n",
      "Saved: interpolated_frames\\frame_0648.png\n",
      "Saved: interpolated_frames\\frame_0649.png\n",
      "Saved: interpolated_frames\\frame_0650.png\n",
      "Saved: interpolated_frames\\frame_0651.png\n",
      "Saved: interpolated_frames\\frame_0652.png\n",
      "Saved: interpolated_frames\\frame_0653.png\n",
      "Saved: interpolated_frames\\frame_0654.png\n",
      "Saved: interpolated_frames\\frame_0655.png\n",
      "Saved: interpolated_frames\\frame_0656.png\n",
      "Saved: interpolated_frames\\frame_0657.png\n",
      "Saved: interpolated_frames\\frame_0658.png\n",
      "Saved: interpolated_frames\\frame_0659.png\n",
      "Saved: interpolated_frames\\frame_0660.png\n",
      "Saved: interpolated_frames\\frame_0661.png\n",
      "Saved: interpolated_frames\\frame_0662.png\n",
      "Saved: interpolated_frames\\frame_0663.png\n",
      "Saved: interpolated_frames\\frame_0664.png\n",
      "Saved: interpolated_frames\\frame_0665.png\n",
      "Saved: interpolated_frames\\frame_0666.png\n",
      "Saved: interpolated_frames\\frame_0667.png\n",
      "Saved: interpolated_frames\\frame_0668.png\n",
      "Saved: interpolated_frames\\frame_0669.png\n",
      "Saved: interpolated_frames\\frame_0670.png\n",
      "Saved: interpolated_frames\\frame_0671.png\n",
      "Saved: interpolated_frames\\frame_0672.png\n",
      "Saved: interpolated_frames\\frame_0673.png\n",
      "Saved: interpolated_frames\\frame_0674.png\n",
      "Saved: interpolated_frames\\frame_0675.png\n",
      "Saved: interpolated_frames\\frame_0676.png\n",
      "Saved: interpolated_frames\\frame_0677.png\n",
      "Saved: interpolated_frames\\frame_0678.png\n",
      "Saved: interpolated_frames\\frame_0679.png\n",
      "Saved: interpolated_frames\\frame_0680.png\n",
      "Saved: interpolated_frames\\frame_0681.png\n",
      "Saved: interpolated_frames\\frame_0682.png\n",
      "Saved: interpolated_frames\\frame_0683.png\n",
      "Saved: interpolated_frames\\frame_0684.png\n",
      "Saved: interpolated_frames\\frame_0685.png\n",
      "Saved: interpolated_frames\\frame_0686.png\n",
      "Saved: interpolated_frames\\frame_0687.png\n",
      "Saved: interpolated_frames\\frame_0688.png\n",
      "Saved: interpolated_frames\\frame_0689.png\n",
      "Saved: interpolated_frames\\frame_0690.png\n",
      "Saved: interpolated_frames\\frame_0691.png\n",
      "Saved: interpolated_frames\\frame_0692.png\n",
      "Saved: interpolated_frames\\frame_0693.png\n",
      "Saved: interpolated_frames\\frame_0694.png\n",
      "Saved: interpolated_frames\\frame_0695.png\n",
      "Saved: interpolated_frames\\frame_0696.png\n",
      "Saved: interpolated_frames\\frame_0697.png\n",
      "Saved: interpolated_frames\\frame_0698.png\n",
      "Saved: interpolated_frames\\frame_0699.png\n",
      "Saved: interpolated_frames\\frame_0700.png\n",
      "Saved: interpolated_frames\\frame_0701.png\n",
      "Saved: interpolated_frames\\frame_0702.png\n",
      "Saved: interpolated_frames\\frame_0703.png\n",
      "Saved: interpolated_frames\\frame_0704.png\n",
      "Saved: interpolated_frames\\frame_0705.png\n",
      "Saved: interpolated_frames\\frame_0706.png\n",
      "Saved: interpolated_frames\\frame_0707.png\n",
      "Saved: interpolated_frames\\frame_0708.png\n",
      "Saved: interpolated_frames\\frame_0709.png\n",
      "Saved: interpolated_frames\\frame_0710.png\n",
      "Saved: interpolated_frames\\frame_0711.png\n",
      "Saved: interpolated_frames\\frame_0712.png\n",
      "Saved: interpolated_frames\\frame_0713.png\n",
      "Saved: interpolated_frames\\frame_0714.png\n",
      "Saved: interpolated_frames\\frame_0715.png\n",
      "Saved: interpolated_frames\\frame_0716.png\n",
      "Saved: interpolated_frames\\frame_0717.png\n",
      "Saved: interpolated_frames\\frame_0718.png\n",
      "Saved: interpolated_frames\\frame_0719.png\n",
      "Saved: interpolated_frames\\frame_0720.png\n",
      "Saved: interpolated_frames\\frame_0721.png\n",
      "Saved: interpolated_frames\\frame_0722.png\n",
      "Saved: interpolated_frames\\frame_0723.png\n",
      "Saved: interpolated_frames\\frame_0724.png\n",
      "Saved: interpolated_frames\\frame_0725.png\n",
      "Saved: interpolated_frames\\frame_0726.png\n",
      "Saved: interpolated_frames\\frame_0727.png\n",
      "Saved: interpolated_frames\\frame_0728.png\n",
      "Saved: interpolated_frames\\frame_0729.png\n",
      "Saved: interpolated_frames\\frame_0730.png\n",
      "Saved: interpolated_frames\\frame_0731.png\n",
      "Saved: interpolated_frames\\frame_0732.png\n",
      "Saved: interpolated_frames\\frame_0733.png\n",
      "Saved: interpolated_frames\\frame_0734.png\n",
      "Saved: interpolated_frames\\frame_0735.png\n",
      "Saved: interpolated_frames\\frame_0736.png\n",
      "Saved: interpolated_frames\\frame_0737.png\n",
      "Saved: interpolated_frames\\frame_0738.png\n",
      "Saved: interpolated_frames\\frame_0739.png\n",
      "Saved: interpolated_frames\\frame_0740.png\n",
      "Saved: interpolated_frames\\frame_0741.png\n",
      "Saved: interpolated_frames\\frame_0742.png\n",
      "Saved: interpolated_frames\\frame_0743.png\n",
      "Saved: interpolated_frames\\frame_0744.png\n",
      "Saved: interpolated_frames\\frame_0745.png\n",
      "Saved: interpolated_frames\\frame_0746.png\n",
      "Saved: interpolated_frames\\frame_0747.png\n",
      "Saved: interpolated_frames\\frame_0748.png\n",
      "Saved: interpolated_frames\\frame_0749.png\n",
      "Saved: interpolated_frames\\frame_0750.png\n",
      "Saved: interpolated_frames\\frame_0751.png\n",
      "Saved: interpolated_frames\\frame_0752.png\n",
      "Saved: interpolated_frames\\frame_0753.png\n",
      "Saved: interpolated_frames\\frame_0754.png\n",
      "Saved: interpolated_frames\\frame_0755.png\n",
      "Saved: interpolated_frames\\frame_0756.png\n",
      "Saved: interpolated_frames\\frame_0757.png\n",
      "Saved: interpolated_frames\\frame_0758.png\n",
      "Saved: interpolated_frames\\frame_0759.png\n",
      "Saved: interpolated_frames\\frame_0760.png\n",
      "Saved: interpolated_frames\\frame_0761.png\n",
      "Saved: interpolated_frames\\frame_0762.png\n",
      "Saved: interpolated_frames\\frame_0763.png\n",
      "Saved: interpolated_frames\\frame_0764.png\n",
      "Saved: interpolated_frames\\frame_0765.png\n",
      "Saved: interpolated_frames\\frame_0766.png\n",
      "Saved: interpolated_frames\\frame_0767.png\n",
      "Saved: interpolated_frames\\frame_0768.png\n",
      "Saved: interpolated_frames\\frame_0769.png\n",
      "Saved: interpolated_frames\\frame_0770.png\n",
      "Saved: interpolated_frames\\frame_0771.png\n",
      "Saved: interpolated_frames\\frame_0772.png\n",
      "Saved: interpolated_frames\\frame_0773.png\n",
      "Saved: interpolated_frames\\frame_0774.png\n",
      "Saved: interpolated_frames\\frame_0775.png\n",
      "Saved: interpolated_frames\\frame_0776.png\n",
      "Saved: interpolated_frames\\frame_0777.png\n",
      "Saved: interpolated_frames\\frame_0778.png\n",
      "Saved: interpolated_frames\\frame_0779.png\n",
      "Saved: interpolated_frames\\frame_0780.png\n",
      "Saved: interpolated_frames\\frame_0781.png\n",
      "Saved: interpolated_frames\\frame_0782.png\n",
      "Saved: interpolated_frames\\frame_0783.png\n",
      "Saved: interpolated_frames\\frame_0784.png\n",
      "Saved: interpolated_frames\\frame_0785.png\n",
      "Saved: interpolated_frames\\frame_0786.png\n",
      "Saved: interpolated_frames\\frame_0787.png\n",
      "Saved: interpolated_frames\\frame_0788.png\n",
      "Saved: interpolated_frames\\frame_0789.png\n",
      "Saved: interpolated_frames\\frame_0790.png\n",
      "Saved: interpolated_frames\\frame_0791.png\n",
      "Saved: interpolated_frames\\frame_0792.png\n",
      "Saved: interpolated_frames\\frame_0793.png\n",
      "Saved: interpolated_frames\\frame_0794.png\n",
      "Saved: interpolated_frames\\frame_0795.png\n",
      "Saved: interpolated_frames\\frame_0796.png\n",
      "Saved: interpolated_frames\\frame_0797.png\n",
      "Saved: interpolated_frames\\frame_0798.png\n",
      "Saved: interpolated_frames\\frame_0799.png\n",
      "Saved: interpolated_frames\\frame_0800.png\n",
      "Saved: interpolated_frames\\frame_0801.png\n",
      "Saved: interpolated_frames\\frame_0802.png\n",
      "Saved: interpolated_frames\\frame_0803.png\n",
      "Saved: interpolated_frames\\frame_0804.png\n",
      "Saved: interpolated_frames\\frame_0805.png\n",
      "Saved: interpolated_frames\\frame_0806.png\n",
      "Saved: interpolated_frames\\frame_0807.png\n",
      "Saved: interpolated_frames\\frame_0808.png\n",
      "Saved: interpolated_frames\\frame_0809.png\n",
      "Saved: interpolated_frames\\frame_0810.png\n",
      "Saved: interpolated_frames\\frame_0811.png\n",
      "Saved: interpolated_frames\\frame_0812.png\n",
      "Saved: interpolated_frames\\frame_0813.png\n",
      "Saved: interpolated_frames\\frame_0814.png\n",
      "Saved: interpolated_frames\\frame_0815.png\n",
      "Saved: interpolated_frames\\frame_0816.png\n",
      "Saved: interpolated_frames\\frame_0817.png\n",
      "Saved: interpolated_frames\\frame_0818.png\n",
      "Saved: interpolated_frames\\frame_0819.png\n",
      "Saved: interpolated_frames\\frame_0820.png\n",
      "Saved: interpolated_frames\\frame_0821.png\n",
      "Saved: interpolated_frames\\frame_0822.png\n",
      "Saved: interpolated_frames\\frame_0823.png\n",
      "Saved: interpolated_frames\\frame_0824.png\n",
      "Saved: interpolated_frames\\frame_0825.png\n",
      "Saved: interpolated_frames\\frame_0826.png\n",
      "Saved: interpolated_frames\\frame_0827.png\n",
      "Saved: interpolated_frames\\frame_0828.png\n",
      "Saved: interpolated_frames\\frame_0829.png\n",
      "Saved: interpolated_frames\\frame_0830.png\n",
      "Saved: interpolated_frames\\frame_0831.png\n",
      "Saved: interpolated_frames\\frame_0832.png\n",
      "Saved: interpolated_frames\\frame_0833.png\n",
      "Saved: interpolated_frames\\frame_0834.png\n",
      "Saved: interpolated_frames\\frame_0835.png\n",
      "Saved: interpolated_frames\\frame_0836.png\n",
      "Saved: interpolated_frames\\frame_0837.png\n",
      "Saved: interpolated_frames\\frame_0838.png\n",
      "Saved: interpolated_frames\\frame_0839.png\n",
      "Saved: interpolated_frames\\frame_0840.png\n",
      "Saved: interpolated_frames\\frame_0841.png\n",
      "Saved: interpolated_frames\\frame_0842.png\n",
      "Saved: interpolated_frames\\frame_0843.png\n",
      "Saved: interpolated_frames\\frame_0844.png\n",
      "Saved: interpolated_frames\\frame_0845.png\n",
      "Saved: interpolated_frames\\frame_0846.png\n",
      "Saved: interpolated_frames\\frame_0847.png\n",
      "Saved: interpolated_frames\\frame_0848.png\n",
      "Saved: interpolated_frames\\frame_0849.png\n",
      "Saved: interpolated_frames\\frame_0850.png\n",
      "Saved: interpolated_frames\\frame_0851.png\n",
      "Saved: interpolated_frames\\frame_0852.png\n",
      "Saved: interpolated_frames\\frame_0853.png\n",
      "Saved: interpolated_frames\\frame_0854.png\n",
      "Saved: interpolated_frames\\frame_0855.png\n",
      "Saved: interpolated_frames\\frame_0856.png\n",
      "Saved: interpolated_frames\\frame_0857.png\n",
      "Saved: interpolated_frames\\frame_0858.png\n",
      "Saved: interpolated_frames\\frame_0859.png\n",
      "Saved: interpolated_frames\\frame_0860.png\n",
      "Saved: interpolated_frames\\frame_0861.png\n",
      "Saved: interpolated_frames\\frame_0862.png\n",
      "Saved: interpolated_frames\\frame_0863.png\n",
      "Saved: interpolated_frames\\frame_0864.png\n",
      "Saved: interpolated_frames\\frame_0865.png\n",
      "Saved: interpolated_frames\\frame_0866.png\n",
      "Saved: interpolated_frames\\frame_0867.png\n",
      "Saved: interpolated_frames\\frame_0868.png\n",
      "Saved: interpolated_frames\\frame_0869.png\n",
      "Saved: interpolated_frames\\frame_0870.png\n",
      "Saved: interpolated_frames\\frame_0871.png\n",
      "Saved: interpolated_frames\\frame_0872.png\n",
      "Saved: interpolated_frames\\frame_0873.png\n",
      "Saved: interpolated_frames\\frame_0874.png\n",
      "Saved: interpolated_frames\\frame_0875.png\n",
      "Saved: interpolated_frames\\frame_0876.png\n",
      "Saved: interpolated_frames\\frame_0877.png\n",
      "Saved: interpolated_frames\\frame_0878.png\n",
      "Saved: interpolated_frames\\frame_0879.png\n",
      "Saved: interpolated_frames\\frame_0880.png\n",
      "Saved: interpolated_frames\\frame_0881.png\n",
      "Saved: interpolated_frames\\frame_0882.png\n",
      "Saved: interpolated_frames\\frame_0883.png\n",
      "Saved: interpolated_frames\\frame_0884.png\n",
      "Saved: interpolated_frames\\frame_0885.png\n",
      "Saved: interpolated_frames\\frame_0886.png\n",
      "Saved: interpolated_frames\\frame_0887.png\n",
      "Saved: interpolated_frames\\frame_0888.png\n",
      "Saved: interpolated_frames\\frame_0889.png\n",
      "Saved: interpolated_frames\\frame_0890.png\n",
      "Saved: interpolated_frames\\frame_0891.png\n",
      "Saved: interpolated_frames\\frame_0892.png\n",
      "Saved: interpolated_frames\\frame_0893.png\n",
      "Saved: interpolated_frames\\frame_0894.png\n",
      "Saved: interpolated_frames\\frame_0895.png\n",
      "Saved: interpolated_frames\\frame_0896.png\n",
      "Saved: interpolated_frames\\frame_0897.png\n",
      "Saved: interpolated_frames\\frame_0898.png\n",
      "Saved: interpolated_frames\\frame_0899.png\n",
      "All 900 frames have been saved in the directory: interpolated_frames\n"
     ]
    }
   ],
   "source": [
    "generate_interpolated_frames(frame1_path, frame2_path, output_dir, num_frames=900, scale_factor=2)"
   ]
  },
  {
   "cell_type": "code",
   "execution_count": null,
   "id": "40371849-3473-41de-a90a-a4372c656548",
   "metadata": {},
   "outputs": [],
   "source": []
  }
 ],
 "metadata": {
  "kernelspec": {
   "display_name": "Python 3 (ipykernel)",
   "language": "python",
   "name": "python3"
  },
  "language_info": {
   "codemirror_mode": {
    "name": "ipython",
    "version": 3
   },
   "file_extension": ".py",
   "mimetype": "text/x-python",
   "name": "python",
   "nbconvert_exporter": "python",
   "pygments_lexer": "ipython3",
   "version": "3.12.2"
  }
 },
 "nbformat": 4,
 "nbformat_minor": 5
}
